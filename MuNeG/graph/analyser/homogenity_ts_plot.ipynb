{
 "cells": [
  {
   "cell_type": "code",
   "execution_count": 2,
   "metadata": {
    "collapsed": true
   },
   "outputs": [],
   "source": [
    "import seaborn as sns\n",
    "import csv\n",
    "import pandas as pd\n",
    "import matplotlib.pyplot as plt"
   ]
  },
  {
   "cell_type": "code",
   "execution_count": 58,
   "metadata": {
    "collapsed": false
   },
   "outputs": [],
   "source": [
    "frame = pd.DataFrame()\n",
    "frame = pd.read_csv('D:\\\\pycharm_workspace\\\\multiplex\\\\MuNeG\\\\results\\\\synthetic\\\\lustre_results\\\\combined_synthetic_homogenity_with_density_20180521.csv',index_col=None, header=0)\n",
    "nrOfLayers = 5"
   ]
  },
  {
   "cell_type": "code",
   "execution_count": 102,
   "metadata": {
    "collapsed": false
   },
   "outputs": [],
   "source": [
    "#real data\n",
    "frame = pd.DataFrame()\n",
    "frame = pd.read_csv('D:\\\\pycharm_workspace\\\\multiplex\\\\MuNeG\\\\results\\\\real_sw\\\\lustre_results\\\\combined_real_sw_homogenity_with_density.csv',index_col=None, header=0)\n",
    "nrOfLayers = 6"
   ]
  },
  {
   "cell_type": "code",
   "execution_count": 124,
   "metadata": {
    "collapsed": true
   },
   "outputs": [],
   "source": [
    "#real data\n",
    "frame = pd.DataFrame()\n",
    "frame = pd.read_csv('D:\\\\pycharm_workspace\\\\multiplex\\\\MuNeG\\\\results\\\\real\\\\lustre_results\\\\combined_real_homogenity_with_density_20180521.csv',index_col=None, header=0)\n",
    "nrOfLayers = 5"
   ]
  },
  {
   "cell_type": "code",
   "execution_count": 125,
   "metadata": {
    "collapsed": false
   },
   "outputs": [],
   "source": [
    "frame['fold'] = frame['fold'].map({0:0, 2: 50, 3: 66, 4:75, 5:80, 10:90, 20:95})\n",
    "frame = frame.drop(frame[frame.fold == 66].index)\n",
    "frame = frame.drop(frame[frame.fold == 75].index)\n",
    "frame = frame.drop(frame[frame.fold == 80].index)\n",
    "frame = frame.drop(frame[frame.fold == 50].index)\n",
    "frame = frame.drop(frame[frame.fold == 95].index)\n",
    "\n"
   ]
  },
  {
   "cell_type": "code",
   "execution_count": 126,
   "metadata": {
    "collapsed": true
   },
   "outputs": [],
   "source": [
    "frame = pd.melt(frame, id_vars=['homogenity', 'rep', 'density'],value_vars=[\"LR\",\"SF\",\"WL\",\"FG\",\"RF\",\"SCF\",\"FCF\"])\n",
    "# frame = pd.melt(frame, id_vars=['homogenity', 'rep', 'density'],value_vars=[\"SF\",\"RF\"])\n",
    "frame[\"variable\"] = pd.Categorical(frame['variable'], [\"LR\",\"SF\",\"WL\",\"FG\",\"RF\",\"SCF\",\"FCF\"])"
   ]
  },
  {
   "cell_type": "code",
   "execution_count": 127,
   "metadata": {
    "collapsed": false
   },
   "outputs": [],
   "source": [
    "for group in xrange(0, 21, 1):\n",
    "    group_name = float(group) / 20.0\n",
    "    mask = frame.homogenity <= group_name\n",
    "    column_name = 'homogenity'\n",
    "    frame.loc[mask, column_name] = str(group_name)\n",
    "\n",
    "frame = frame.sort_values(by=[\"variable\",\"homogenity\"])"
   ]
  },
  {
   "cell_type": "code",
   "execution_count": 128,
   "metadata": {
    "collapsed": true
   },
   "outputs": [],
   "source": [
    "frame = frame.groupby(['homogenity', 'variable'])[\"value\"].mean().reset_index().dropna()"
   ]
  },
  {
   "cell_type": "code",
   "execution_count": 129,
   "metadata": {
    "collapsed": true
   },
   "outputs": [],
   "source": [
    "sns.set(font='monospace', font_scale=2, palette=\"deep\", style='whitegrid')"
   ]
  },
  {
   "cell_type": "code",
   "execution_count": 130,
   "metadata": {
    "collapsed": true
   },
   "outputs": [],
   "source": [
    "frame.rename(columns = {'variable':'method'}, inplace = True)\n",
    "frame['rep']=1"
   ]
  },
  {
   "cell_type": "code",
   "execution_count": 131,
   "metadata": {
    "collapsed": true
   },
   "outputs": [],
   "source": [
    "fig, ax = plt.subplots()"
   ]
  },
  {
   "cell_type": "code",
   "execution_count": 132,
   "metadata": {
    "collapsed": false
   },
   "outputs": [
    {
     "data": {
      "text/plain": [
       "<matplotlib.text.Text at 0x795adf98>"
      ]
     },
     "execution_count": 132,
     "metadata": {},
     "output_type": "execute_result"
    }
   ],
   "source": [
    "sns.tsplot(data=frame,\n",
    "               time='homogenity',\n",
    "               value='value',\n",
    "               unit='rep',\n",
    "               condition='method',\n",
    "               err_style=\"boot_traces\", n_boot=500, ax=ax)\n",
    "ax.set_ylim(ymin=0.0)\n",
    "ax.set_ylim(ymax=1.0)\n",
    "plt.setp(ax.lines,linewidth=6) \n",
    "plt.setp(ax.legend_.get_lines(),linewidth=6)\n",
    "plt.title('AuC classification results for 90% of known nodes')\n",
    "plt.xlabel('Homogenity')\n",
    "plt.ylabel('Area under ROC-Curve for different homogenity')"
   ]
  },
  {
   "cell_type": "code",
   "execution_count": 133,
   "metadata": {
    "collapsed": true
   },
   "outputs": [],
   "source": [
    "ax2 = ax.twinx()\n",
    "homogeneity_line = plt.axvline(x=0.74)\n",
    "homogeneity_line.set_color(\"black\")\n",
    "homogeneity_line.set_linestyle(\"dashed\")\n",
    "homogeneity_line.set_lw(1)\n",
    "ax2.grid(False)\n",
    "ax2.yaxis.set_major_formatter(plt.NullFormatter())"
   ]
  },
  {
   "cell_type": "code",
   "execution_count": 134,
   "metadata": {
    "collapsed": true
   },
   "outputs": [],
   "source": [
    "plt.show()"
   ]
  },
  {
   "cell_type": "code",
   "execution_count": 59,
   "metadata": {
    "collapsed": false
   },
   "outputs": [],
   "source": []
  },
  {
   "cell_type": "code",
   "execution_count": null,
   "metadata": {
    "collapsed": true
   },
   "outputs": [],
   "source": []
  }
 ],
 "metadata": {
  "kernelspec": {
   "display_name": "Python 2",
   "language": "python",
   "name": "python2"
  },
  "language_info": {
   "codemirror_mode": {
    "name": "ipython",
    "version": 2
   },
   "file_extension": ".py",
   "mimetype": "text/x-python",
   "name": "python",
   "nbconvert_exporter": "python",
   "pygments_lexer": "ipython2",
   "version": "2.7.13"
  }
 },
 "nbformat": 4,
 "nbformat_minor": 0
}
