{
 "cells": [
  {
   "cell_type": "code",
   "execution_count": 1,
   "metadata": {},
   "outputs": [
    {
     "name": "stderr",
     "output_type": "stream",
     "text": [
      "WARNING:requests.packages.urllib3.contrib.pyopenssl:A problem was encountered with the certificate that prevented urllib3 from finding the SubjectAlternativeName field. This can affect certificate validation. The error was Codepoint U+002A at position 1 of u'*' not allowed\n"
     ]
    },
    {
     "name": "stderr",
     "output_type": "stream",
     "text": [
      "C:\\Users\\Adrian\\Anaconda2\\lib\\site-packages\\requests\\packages\\urllib3\\connection.py:337: SubjectAltNameWarning: Certificate for api.plot.ly has no `subjectAltName`, falling back to check for a `commonName` for now. This feature is being removed by major browsers and deprecated by RFC 2818. (See https://github.com/shazow/urllib3/issues/497 for details.)\n  SubjectAltNameWarning\n"
     ]
    }
   ],
   "source": [
    "#imports\n",
    "import numpy as np\n",
    "import seaborn as sns\n",
    "import matplotlib.pyplot as plt\n",
    "import sys\n",
    "\n",
    "sys.path.append('D:\\pycharm_workspace\\multiplex\\MuNeG')\n",
    "import graph.analyser.StatisticalAnalysis as sa\n",
    "from pandas.core.frame import DataFrame"
   ]
  },
  {
   "cell_type": "code",
   "execution_count": 4,
   "metadata": {},
   "outputs": [],
   "source": [
    "cursor = sa.connect_to_data(\"localhost\", \"DanioRerio\", \"Adrian\", \"A;dek.89\")\n",
    "cursor.execute('select avg(fusion_sum), avg(fusion_mean), homogenity, real_homogenity from [DanioRerio].[muneg].[results_df] group by homogenity, real_homogenity')\n",
    "results = cursor.fetchall()"
   ]
  },
  {
   "cell_type": "code",
   "execution_count": 5,
   "metadata": {},
   "outputs": [],
   "source": [
    "fusion_sum  = [row[0] for row in results]\n",
    "fusion_mean = [row[1] for row in results]\n",
    "homogenity = [row[2] for row in results]\n",
    "real_homogenity = [row[3] for row in results]\n",
    "\n",
    "\n",
    "res_dict = []\n",
    "res_dict.append((\"fusion_sum\", fusion_sum))\n",
    "res_dict.append((\"fusion_mean\", fusion_mean))\n",
    "res_dict.append((\"homogenity\", homogenity))\n",
    "res_dict.append((\"real_homogenity\", real_homogenity))\n",
    "df =  DataFrame.from_items(res_dict)\n",
    "df_pivoted = df.pivot(\"homogenity\", \"real_homogenity\", \"fusion_sum\")"
   ]
  },
  {
   "cell_type": "code",
   "execution_count": 6,
   "metadata": {},
   "outputs": [],
   "source": [
    "fig, ax = plt.subplots()\n",
    "ax = sns.heatmap(df_pivoted, yticklabels=2)"
   ]
  },
  {
   "cell_type": "code",
   "execution_count": 7,
   "metadata": {},
   "outputs": [],
   "source": [
    "plt.show()"
   ]
  },
  {
   "cell_type": "code",
   "execution_count": 9,
   "metadata": {},
   "outputs": [],
   "source": [
    "cursor = sa.connect_to_data(\"localhost\", \"DanioRerio\", \"Adrian\", \"A;dek.89\")\n",
    "cursor.execute('select fusion_sum, fusion_mean, fusion_layer, fusion_random, fusion_conv_max, fusion_conv_min, homogenity, baseline, reduction, real_homogenity from [DanioRerio].[muneg].[results_df]')\n",
    "results = cursor.fetchall()"
   ]
  },
  {
   "cell_type": "code",
   "execution_count": 14,
   "metadata": {},
   "outputs": [],
   "source": [
    "fusion_sum = [row[0] for row in results]\n",
    "fusion_mean = [row[1] for row in results]\n",
    "fusion_layer = [row[2] for row in results]\n",
    "fusion_random = [row[3] for row in results]\n",
    "fusion_conv_max = [row[4] for row in results]\n",
    "fusion_conv_min = [row[5] for row in results]\n",
    "homogenity = [row[6] for row in results]\n",
    "baseline = [row[7] for row in results]\n",
    "reduction = [row[8] for row in results]\n",
    "real_homogenity = [row[9] for row in results]\n",
    "\n",
    "homogenity = [int(elem*10) for elem in homogenity]\n",
    "homogenity = sorted(homogenity)\n",
    "\n",
    "res_dict = []\n",
    "res_dict.append((\"SF\", fusion_sum))\n",
    "res_dict.append((\"MF\", fusion_mean))\n",
    "res_dict.append((\"LF\", fusion_layer))\n",
    "res_dict.append((\"RF\", fusion_random))\n",
    "res_dict.append((\"SCF\", fusion_conv_max))\n",
    "res_dict.append((\"FCF\", fusion_conv_min))\n",
    "res_dict.append((\"homogenity\", homogenity))\n",
    "res_dict.append((\"baseline\", baseline))\n",
    "res_dict.append((\"LR\", reduction))\n",
    "res_dict.append((\"real_homogenity\", real_homogenity))\n",
    "df = DataFrame.from_items(res_dict)"
   ]
  },
  {
   "cell_type": "code",
   "execution_count": 15,
   "metadata": {},
   "outputs": [],
   "source": [
    "palette = sns.crayon_palette(['Almond', 'Aquamarine', 'Beaver', 'Blue', 'Copper',  'Vivid Tangerine', 'Magenta', 'Periwinkle','Salmon', 'Sepia', 'Tropical Rain Forest'])\n",
    "palette = sns.color_palette(\"hls\", 11)\n",
    "rc={'axes.labelsize': 15, 'xtick.labelsize': 15, 'ytick.labelsize': 15}\n",
    "sns.set(rc=rc)"
   ]
  },
  {
   "cell_type": "code",
   "execution_count": 17,
   "metadata": {},
   "outputs": [
    {
     "data": {
      "text/plain": [
       "<seaborn.axisgrid.PairGrid at 0x40f3a4e0>"
      ]
     },
     "execution_count": 17,
     "output_type": "execute_result",
     "metadata": {}
    }
   ],
   "source": [
    "g = sns.PairGrid(df, y_vars=[\"baseline\", \"real_homogenity\"], x_vars=[\"LR\", \"SF\", \"MF\", \"LF\", \"RF\", \"SCF\", \"FCF\"], hue=\"homogenity\", palette=palette)\n",
    "# g.map_diag(plt.hist)\n",
    "g.map(plt.scatter)"
   ]
  },
  {
   "cell_type": "code",
   "execution_count": 120,
   "metadata": {},
   "outputs": [
    {
     "name": "stdout",
     "output_type": "stream",
     "text": [
      "True\n"
     ]
    }
   ],
   "source": [
    "print g._legend_out"
   ]
  },
  {
   "cell_type": "code",
   "execution_count": 18,
   "metadata": {},
   "outputs": [],
   "source": [
    "legend = plt.legend(bbox_to_anchor=(-5.5, 2.20, -3., -1.102), loc=3,\n",
    "           ncol=11, borderaxespad=0.,\n",
    "            frameon=True, fontsize=\"large\", title=\"Homogenity[%]\")\n",
    "for elem in legend.legendHandles:\n",
    "    elem._sizes = [130]\n",
    "plt.setp(legend.get_title(),fontsize='large')\n",
    "plt.show()"
   ]
  },
  {
   "cell_type": "code",
   "execution_count": 109,
   "metadata": {},
   "outputs": [],
   "source": [
    "cursor = sa.connect_to_data(\"156.17.131.228\", \"DanioRerio\", \"apopiel\", \"alamakota123\")\n",
    "cursor.execute('select prob_in, real_homogenity, fusion_sum, fusion_mean, fusion_layer, reduction from [DanioRerio].[muneg].[results_df]')\n",
    "results = cursor.fetchall()"
   ]
  },
  {
   "cell_type": "code",
   "execution_count": 29,
   "metadata": {},
   "outputs": [],
   "source": [
    "prob_in  = [row[0] for row in results]\n",
    "real_homogenity = [row[1] for row in results]\n",
    "fusion_sum = [row[2] for row in results]\n",
    "fusion_mean = [row[3] for row in results]\n",
    "fusion_layer = [row[4] for row in results]\n",
    "reduction = [row[5] for row in results]\n",
    "\n",
    "res_dict = []\n",
    "res_dict.append((\"prob_in\", prob_in))\n",
    "res_dict.append((\"real_homogenity\", real_homogenity))\n",
    "res_dict.append((\"fusion_sum\", fusion_sum))\n",
    "res_dict.append((\"fusion_mean\", fusion_mean))\n",
    "res_dict.append((\"fusion_layer\", fusion_layer))\n",
    "res_dict.append((\"reduction\", reduction))\n",
    "df = DataFrame.from_items(res_dict)"
   ]
  },
  {
   "cell_type": "code",
   "execution_count": 30,
   "metadata": {},
   "outputs": [],
   "source": [
    "g = sns.FacetGrid(df, col=\"prob_in\", ylim=(0, 1))\n",
    "g.map(plt.scatter, \"real_homogenity\", \"reduction\");"
   ]
  },
  {
   "cell_type": "code",
   "execution_count": 18,
   "metadata": {},
   "outputs": [
    {
     "name": "stdout",
     "output_type": "stream",
     "text": [
      "        prob_in  real_homogenity  fusion_sum  fusion_mean  fusion_layer\n0             5         1.000000        1.00         1.00          1.00\n1             5         1.000000        1.00         1.00          1.00\n2             5         1.000000        1.00         1.00          1.00\n3             5         1.000000        1.00         1.00          1.00\n4             5         1.000000        1.00         1.00          1.00\n5             5         1.000000        1.00         1.00          1.00\n6             5         1.000000        1.00         1.00          1.00\n7             5         1.000000        1.00         1.00          1.00\n8             5         1.000000        1.00         1.00          1.00\n9             5         1.000000        1.00         1.00          1.00\n10            5         1.000000        1.00         1.00          1.00\n11            5         1.000000        1.00         1.00          1.00\n12            5         1.000000        1.00         1.00          1.00\n13            5         1.000000        1.00         1.00          1.00\n14            5         1.000000        1.00         1.00          1.00\n15            5         1.000000        1.00         1.00          1.00\n16            5         1.000000        1.00         1.00          1.00\n17            5         1.000000        1.00         1.00          1.00\n18            5         1.000000        1.00         1.00          1.00\n19            5         1.000000        1.00         1.00          1.00\n20            5         1.000000        1.00         1.00          1.00\n21            5         1.000000        1.00         1.00          1.00\n22            5         1.000000        1.00         1.00          1.00\n23            5         1.000000        1.00         1.00          1.00\n24            5         1.000000        1.00         1.00          1.00\n25            5         1.000000        1.00         1.00          1.00\n26            5         1.000000        1.00         1.00          1.00\n27            5         1.000000        1.00         1.00          1.00\n28            5         1.000000        1.00         1.00          1.00\n29            5         1.000000        1.00         1.00          1.00\n...         ...              ...         ...          ...           ...\n147810        9         0.503927        0.56         0.58          0.57\n147811        9         0.503927        0.57         0.57          0.57\n147812        9         0.503927        0.56         0.56          0.58\n147813        9         0.503927        0.57         0.57          0.57\n147814        9         0.503927        0.56         0.57          0.56\n147815        9         0.503927        0.56         0.59          0.56\n147816        9         0.497382        0.57         0.57          0.57\n147817        9         0.497382        0.58         0.56          0.57\n147818        9         0.497382        0.56         0.57          0.56\n147819        9         0.497382        0.57         0.58          0.60\n147820        9         0.497382        0.58         0.57          0.58\n147821        9         0.497382        0.59         0.53          0.61\n147822        9         0.501606        0.57         0.56          0.59\n147823        9         0.501606        0.55         0.55          0.56\n147824        9         0.501606        0.56         0.56          0.58\n147825        9         0.501606        0.56         0.56          0.59\n147826        9         0.501606        0.57         0.57          0.60\n147827        9         0.501606        0.57         0.57          0.59\n147828        9         0.505184        0.57         0.57          0.57\n147829        9         0.505184        0.57         0.57          0.57\n147830        9         0.505184        0.57         0.58          0.57\n147831        9         0.505184        0.57         0.58          0.57\n147832        9         0.505184        0.57         0.58          0.57\n147833        9         0.505184        0.57         0.59          0.57\n147834        9         0.497953        0.57         0.57          0.60\n147835        9         0.497953        0.56         0.55          0.57\n147836        9         0.497953        0.56         0.57          0.60\n147837        9         0.497953        0.57         0.55          0.58\n147838        9         0.497953        0.57         0.57          0.56\n147839        9         0.497953        0.57         0.56          0.58\n\n[147840 rows x 5 columns]\n"
     ]
    }
   ],
   "source": [
    "print df"
   ]
  },
  {
   "cell_type": "code",
   "execution_count": 31,
   "metadata": {},
   "outputs": [],
   "source": [
    "plt.show()"
   ]
  },
  {
   "cell_type": "code",
   "execution_count": 20,
   "metadata": {},
   "outputs": [],
   "source": [
    "cursor = sa.connect_to_data(\"156.17.131.228\", \"DanioRerio\", \"apopiel\", \"alamakota123\")\n",
    "cursor.execute('select reduction, fusion_sum, fusion_mean, fusion_layer, fusion_random, fusion_conv_max, fusion_conv_min from [DanioRerio].[muneg].[results_df]')\n",
    "results = cursor.fetchall()"
   ]
  },
  {
   "cell_type": "code",
   "execution_count": 21,
   "metadata": {},
   "outputs": [],
   "source": [
    "reduction  = [row[0] for row in results]\n",
    "fusion_sum = [row[1] for row in results]\n",
    "fusion_mean = [row[2] for row in results]\n",
    "fusion_layer = [row[3] for row in results]\n",
    "fusion_random = [row[4] for row in results]\n",
    "fusion_conv_max = [row[5] for row in results]\n",
    "fusion_conv_min = [row[6] for row in results]\n",
    "\n",
    "res_dict = []\n",
    "res_dict.append((\"reduction\", reduction))\n",
    "res_dict.append((\"fusion_sum\", fusion_sum))\n",
    "res_dict.append((\"fusion_mean\", fusion_mean))\n",
    "res_dict.append((\"fusion_layer\", fusion_layer))\n",
    "res_dict.append((\"fusion_random\", fusion_random))\n",
    "res_dict.append((\"fusion_conv_max\", fusion_conv_max))\n",
    "res_dict.append((\"fusion_conv_min\", fusion_conv_min))\n",
    "df = DataFrame.from_items(res_dict)"
   ]
  },
  {
   "cell_type": "code",
   "execution_count": 22,
   "metadata": {},
   "outputs": [
    {
     "data": {
      "text/plain": [
       "<seaborn.axisgrid.PairGrid at 0x3995e080>"
      ]
     },
     "execution_count": 22,
     "output_type": "execute_result",
     "metadata": {}
    }
   ],
   "source": [
    "g = sns.PairGrid(df)\n",
    "g.map_diag(plt.hist)\n",
    "g.map_offdiag(plt.scatter)\n",
    "g.add_legend()"
   ]
  },
  {
   "cell_type": "code",
   "execution_count": 23,
   "metadata": {},
   "outputs": [],
   "source": [
    "plt.show()"
   ]
  },
  {
   "cell_type": "code",
   "execution_count": 19,
   "metadata": {},
   "outputs": [],
   "source": [
    "cursor = sa.connect_to_data(\"localhost\", \"DanioRerio\", \"Adrian\", \"A;dek.89\")\n",
    "cursor.execute('(select \\'reduction\\', fold, avg(reduction) from  [DanioRerio].[muneg].[results_df] group by fold ) union all (select \\'fusion_sum\\', fold, avg(fusion_sum) from  [DanioRerio].[muneg].[results_df] group by fold) union all  (select \\'fusion_mean\\', fold, avg(fusion_mean) from  [DanioRerio].[muneg].[results_df] group by fold) union all (select \\'fusion_layer\\', fold, avg(fusion_layer) from  [DanioRerio].[muneg].[results_df] group by fold) union all (select \\'fusion_random\\', fold, avg(fusion_random) from  [DanioRerio].[muneg].[results_df] group by fold) union all  (select \\'fusion_conv_max\\', fold, avg(fusion_conv_max) from  [DanioRerio].[muneg].[results_df] group by fold) union all  (select \\'fusion_conv_min\\', fold, avg(fusion_conv_min) from  [DanioRerio].[muneg].[results_df] group by fold);')\n",
    "results = cursor.fetchall()"
   ]
  },
  {
   "cell_type": "code",
   "execution_count": 13,
   "metadata": {},
   "outputs": [
    {
     "name": "stdout",
     "output_type": "stream",
     "text": [
      "            methods  fold   average\n0         reduction    50  0.572767\n1         reduction    66  0.573461\n2         reduction    75  0.573810\n3         reduction    80  0.573951\n4         reduction    90  0.574614\n5         reduction    95  0.574242\n6        fusion_sum    50  0.647960\n7        fusion_sum    66  0.653253\n8        fusion_sum    75  0.655986\n9        fusion_sum    80  0.656903\n10       fusion_sum    90  0.657927\n11       fusion_sum    95  0.657635\n12      fusion_mean    50  0.645327\n13      fusion_mean    66  0.650437\n14      fusion_mean    75  0.653152\n15      fusion_mean    80  0.653995\n16      fusion_mean    90  0.654829\n17      fusion_mean    95  0.654610\n18     fusion_layer    50  0.646955\n19     fusion_layer    66  0.651850\n20     fusion_layer    75  0.654256\n21     fusion_layer    80  0.655366\n22     fusion_layer    90  0.656291\n23     fusion_layer    95  0.655996\n24    fusion_random    50  0.637604\n25    fusion_random    66  0.641539\n26    fusion_random    75  0.643880\n27    fusion_random    80  0.644564\n28    fusion_random    90  0.645064\n29    fusion_random    95  0.644625\n30  fusion_conv_max    50  0.637567\n31  fusion_conv_max    66  0.641821\n32  fusion_conv_max    75  0.644053\n33  fusion_conv_max    80  0.644766\n34  fusion_conv_max    90  0.645194\n35  fusion_conv_max    95  0.644797\n36  fusion_conv_min    50  0.637199\n37  fusion_conv_min    66  0.641329\n38  fusion_conv_min    75  0.643286\n39  fusion_conv_min    80  0.644318\n40  fusion_conv_min    90  0.644343\n41  fusion_conv_min    95  0.644078\n"
     ]
    }
   ],
   "source": [
    "print df"
   ]
  },
  {
   "cell_type": "code",
   "execution_count": 26,
   "metadata": {},
   "outputs": [],
   "source": [
    "methods = [row[0] for row in  results]\n",
    "fold  = [row[1] for row in results]\n",
    "average = [row[2] for row in results]\n",
    "\n",
    "percent_known = {2 : 50, 3: 66, 4: 75, 5: 80, 10:90, 20:95}\n",
    "percent_from_folds = [percent_known[f] for f in fold]\n",
    "\n",
    "res_dict = []\n",
    "res_dict.append((\"methods\", methods))\n",
    "res_dict.append((\"fold\", percent_from_folds))\n",
    "res_dict.append((\"average\", average))\n",
    "df = DataFrame.from_items(res_dict)"
   ]
  },
  {
   "cell_type": "code",
   "execution_count": 27,
   "metadata": {},
   "outputs": [
    {
     "data": {
      "text/plain": [
       "<seaborn.axisgrid.FacetGrid at 0x19c0f160>"
      ]
     },
     "execution_count": 27,
     "output_type": "execute_result",
     "metadata": {}
    }
   ],
   "source": [
    "rc={'axes.labelsize': 19, 'xtick.labelsize': 19, 'ytick.labelsize': 19, 'xtick.major.width':1205}\n",
    "sns.set(rc=rc)\n",
    "g = sns.factorplot(legend=True, legend_out=True, x=\"methods\", y=\"average\", col=\"fold\", data=df,col_wrap=3,  kind=\"bar\")\n",
    "g.set_axis_labels(\"\", \"Average F1-Score\")\\\n",
    "    .set_xticklabels([\"LR\", \"SF\", \"MF\", \"LF\", \"RF\", \"SCF\", \"FCF\"], rotation=90)\\\n",
    "    .set_titles(\"Known nodes: {col_name}% \")\\\n",
    "    .set(ylim=(0.56, 0.66))"
   ]
  },
  {
   "cell_type": "code",
   "execution_count": 28,
   "metadata": {},
   "outputs": [],
   "source": [
    "plt.gcf().subplots_adjust(bottom=0.20)\n",
    "plt.show()"
   ]
  },
  {
   "cell_type": "code",
   "execution_count": 25,
   "metadata": {},
   "outputs": [],
   "source": [
    "cursor = sa.connect_to_data(\"localhost\", \"DanioRerio\", \"Adrian\", \"A;dek.89\")\n",
    "cursor.execute('(select \\'reduction\\', fold, avg(reduction) from  [DanioRerio].[daniorerio].[results_df] group by fold ) union all (select \\'fusion_sum\\', fold, avg(fusion_sum) from  [DanioRerio].[daniorerio].[results_df] group by fold) union all  (select \\'fusion_mean\\', fold, avg(fusion_mean) from  [DanioRerio].[daniorerio].[results_df] group by fold) union all (select \\'fusion_layer\\', fold, avg(fusion_layer) from  [DanioRerio].[daniorerio].[results_df] group by fold) union all (select \\'fusion_random\\', fold, avg(fusion_random) from  [DanioRerio].[daniorerio].[results_df] group by fold) union all  (select \\'fusion_conv_max\\', fold, avg(fusion_conv_max) from  [DanioRerio].[daniorerio].[results_df] group by fold) union all  (select \\'fusion_conv_min\\', fold, avg(fusion_conv_min) from  [DanioRerio].[daniorerio].[results_df] group by fold);')\n",
    "results = cursor.fetchall()"
   ]
  },
  {
   "cell_type": "code",
   "execution_count": 3,
   "metadata": {},
   "outputs": [],
   "source": [
    "import scipy.stats as stats\n",
    "import graph.analyser.nemenyi as nemenyi"
   ]
  },
  {
   "cell_type": "code",
   "execution_count": 7,
   "metadata": {},
   "outputs": [],
   "source": [
    "cursor = sa.connect_to_data(\"localhost\", \"DanioRerio\", \"Adrian\", \"A;dek.89\")\n",
    "cursor.execute('select reduction, fusion_sum, fusion_mean, fusion_layer, fusion_random, fusion_conv_max, fusion_conv_min from DanioRerio.muneg.results_df')\n",
    "results = cursor.fetchall()"
   ]
  },
  {
   "cell_type": "code",
   "execution_count": 8,
   "metadata": {},
   "outputs": [],
   "source": [
    "reduction = [row[0] for row in  results]\n",
    "fusion_sum  = [row[1] for row in results]\n",
    "fusion_mean = [row[2] for row in results]\n",
    "fusion_layer = [row[3] for row in results]\n",
    "fusion_random = [row[4] for row in results]\n",
    "fusion_conv_max = [row[5] for row in results]\n",
    "fusion_conv_min = [row[6] for row in results]"
   ]
  },
  {
   "cell_type": "code",
   "execution_count": 9,
   "metadata": {},
   "outputs": [
    {
     "name": "stdout",
     "output_type": "stream",
     "text": [
      "FriedmanchisquareResult(statistic=73947.731562914312, pvalue=0.0)\n"
     ]
    },
    {
     "data": {
      "text/plain": [
       "(37438.495294830012,\n 0.0,\n array([ 0.001,  0.001,  0.001,  0.001,  0.001,  0.001]),\n array([ True,  True,  True,  True,  True,  True], dtype=bool))"
      ]
     },
     "execution_count": 9,
     "output_type": "execute_result",
     "metadata": {}
    }
   ],
   "source": [
    "groups = [reduction, fusion_sum, fusion_mean, fusion_layer, fusion_random, fusion_conv_max, fusion_conv_min ]\n",
    "friedman_res = stats.friedmanchisquare(reduction, fusion_sum, fusion_mean, fusion_layer, fusion_random, fusion_conv_max, fusion_conv_min)\n",
    "\n",
    "print friedman_res\n",
    "nemenyi.kw_nemenyi(groups,\n",
    "                   method=\"tukey\",\n",
    "                   to_compare=[(0,1), (0,2), (0,3), (0,4), (0,5), (0,6)])"
   ]
  },
  {
   "cell_type": "code",
   "execution_count": 17,
   "metadata": {},
   "outputs": [],
   "source": [
    "cursor = sa.connect_to_data(\"localhost\", \"DanioRerio\", \"Adrian\", \"A;dek.89\")\n",
    "cursor.execute('select TOP (1000) reduction, fusion_sum, fusion_mean, fusion_layer, fusion_random, fusion_conv_max, fusion_conv_min from DanioRerio.DANIORERIO.results_df')\n",
    "results = cursor.fetchall()"
   ]
  },
  {
   "cell_type": "code",
   "execution_count": 17,
   "metadata": {},
   "outputs": [
    {
     "data": {
      "text/plain": [
       "<matplotlib.axes._subplots.AxesSubplot at 0x11e86a90>"
      ]
     },
     "execution_count": 17,
     "output_type": "execute_result",
     "metadata": {}
    },
    {
     "data": {
      "image/png": "[encoded data removed]"
     },
     "output_type": "display_data",
     "text": [
      "<matplotlib.figure.Figure at 0x11ec26d8>"
     ],
     "metadata": {}
    }
   ],
   "source": [
    "import pandas as pd\n",
    "import matplotlib.pyplot as plt\n",
    "%matplotlib inline\n",
    "output = pd.read_csv('D:\\\\pycharm_workspace\\\\multiplex\\\\MuNeG\\\\results\\\\iterations\\\\output.csv')\n",
    "output['iter'].hist(bins=25)"
   ]
  },
  {
   "cell_type": "code",
   "execution_count": 2,
   "metadata": {},
   "outputs": [],
   "source": [
    "import pandas as pd\n",
    "\n",
    "frame = pd.DataFrame()\n",
    "list_ = []\n",
    "output = pd.read_csv('D:\\\\pycharm_workspace\\\\multiplex\\\\MuNeG\\\\results\\\\synthetic\\\\aoc\\\\combined.csv',index_col=None, header=0)\n",
    "output['probe'] = 1\n",
    "list_.append(output)"
   ]
  },
  {
   "cell_type": "code",
   "execution_count": 3,
   "metadata": {},
   "outputs": [],
   "source": [
    "output = pd.read_csv('D:\\\\pycharm_workspace\\\\multiplex\\\\MuNeG\\\\results\\\\synthetic\\\\aoc\\\\combined_probes.csv',index_col=None, header=0)\n",
    "list_.append(output)\n",
    "frame = pd.concat(list_)"
   ]
  },
  {
   "cell_type": "code",
   "execution_count": 28,
   "metadata": {},
   "outputs": [],
   "source": [
    "target_file = open('D:\\\\pycharm_workspace\\\\multiplex\\\\MuNeG\\\\results\\\\real\\\\aoc\\\\output.txt','ab')\n",
    "import pickle\n",
    "pickle.dump(frame, target_file)"
   ]
  },
  {
   "cell_type": "code",
   "execution_count": 13,
   "metadata": {},
   "outputs": [],
   "source": [
    "import pandas as pd\n",
    "\n",
    "frame = pd.DataFrame()\n",
    "frame = pd.read_csv('D:\\\\pycharm_workspace\\\\multiplex\\\\MuNeG\\\\results\\\\real\\\\tsplot\\\\output_30.csv',index_col=None, header=0)"
   ]
  },
  {
   "cell_type": "code",
   "execution_count": 5,
   "metadata": {},
   "outputs": [
    {
     "data": {
      "text/plain": [
       "method\nfusion_convergence_max    0.618218\nfusion_convergence_min    0.617549\nfusion_layer              0.629856\nfusion_mean               0.619038\nfusion_random             0.618076\nfusion_sum                0.639057\nreduction                 0.492618\nName: aoc, dtype: float64"
      ]
     },
     "execution_count": 5,
     "output_type": "execute_result",
     "metadata": {}
    }
   ],
   "source": [
    "frame.groupby(['method'])['aoc'].mean()"
   ]
  },
  {
   "cell_type": "code",
   "execution_count": 20,
   "metadata": {},
   "outputs": [],
   "source": [
    "import seaborn as sns\n",
    "gammas = sns.load_dataset(\"gammas\")"
   ]
  },
  {
   "cell_type": "code",
   "execution_count": 5,
   "metadata": {},
   "outputs": [
    {
     "name": "stdout",
     "output_type": "stream",
     "text": [
      "          tprs      fprs  fold                  method  index\n0     0.000000  0.000000     2               reduction      0\n1     0.011571  0.010101     2               reduction      1\n2     0.022975  0.020202     2               reduction      2\n3     0.033733  0.030303     2               reduction      3\n4     0.039116  0.040404     2               reduction      4\n5     0.045488  0.050505     2               reduction      5\n6     0.051213  0.060606     2               reduction      6\n7     0.057301  0.070707     2               reduction      7\n8     0.062969  0.080808     2               reduction      8\n9     0.069166  0.090909     2               reduction      9\n10    0.075218  0.101010     2               reduction     10\n11    0.081280  0.111111     2               reduction     11\n12    0.086639  0.121212     2               reduction     12\n13    0.092685  0.131313     2               reduction     13\n14    0.098111  0.141414     2               reduction     14\n15    0.103536  0.151515     2               reduction     15\n16    0.108982  0.161616     2               reduction     16\n17    0.114494  0.171717     2               reduction     17\n18    0.120007  0.181818     2               reduction     18\n19    0.126209  0.191919     2               reduction     19\n20    0.132532  0.202020     2               reduction     20\n21    0.138221  0.212121     2               reduction     21\n22    0.143914  0.222222     2               reduction     22\n23    0.149607  0.232323     2               reduction     23\n24    0.157383  0.242424     2               reduction     24\n25    0.163163  0.252525     2               reduction     25\n26    0.169178  0.262626     2               reduction     26\n27    0.175264  0.272727     2               reduction     27\n28    0.181351  0.282828     2               reduction     28\n29    0.187437  0.292929     2               reduction     29\n...        ...       ...   ...                     ...    ...\n4170  0.682501  0.707071    20  fusion_convergence_min     70\n4171  0.693449  0.717172    20  fusion_convergence_min     71\n4172  0.704397  0.727273    20  fusion_convergence_min     72\n4173  0.715346  0.737374    20  fusion_convergence_min     73\n4174  0.726294  0.747475    20  fusion_convergence_min     74\n4175  0.737242  0.757576    20  fusion_convergence_min     75\n4176  0.748190  0.767677    20  fusion_convergence_min     76\n4177  0.759139  0.777778    20  fusion_convergence_min     77\n4178  0.770087  0.787879    20  fusion_convergence_min     78\n4179  0.781035  0.797980    20  fusion_convergence_min     79\n4180  0.791983  0.808081    20  fusion_convergence_min     80\n4181  0.802932  0.818182    20  fusion_convergence_min     81\n4182  0.813880  0.828283    20  fusion_convergence_min     82\n4183  0.824828  0.838384    20  fusion_convergence_min     83\n4184  0.835776  0.848485    20  fusion_convergence_min     84\n4185  0.846725  0.858586    20  fusion_convergence_min     85\n4186  0.857673  0.868687    20  fusion_convergence_min     86\n4187  0.868621  0.878788    20  fusion_convergence_min     87\n4188  0.879569  0.888889    20  fusion_convergence_min     88\n4189  0.890518  0.898990    20  fusion_convergence_min     89\n4190  0.901466  0.909091    20  fusion_convergence_min     90\n4191  0.912414  0.919192    20  fusion_convergence_min     91\n4192  0.923362  0.929293    20  fusion_convergence_min     92\n4193  0.934311  0.939394    20  fusion_convergence_min     93\n4194  0.945259  0.949495    20  fusion_convergence_min     94\n4195  0.956207  0.959596    20  fusion_convergence_min     95\n4196  0.967155  0.969697    20  fusion_convergence_min     96\n4197  0.978104  0.979798    20  fusion_convergence_min     97\n4198  0.989052  0.989899    20  fusion_convergence_min     98\n4199  1.000000  1.000000    20  fusion_convergence_min     99\n\n[4200 rows x 5 columns]\n"
     ]
    }
   ],
   "source": [
    "print frame"
   ]
  },
  {
   "cell_type": "code",
   "execution_count": 14,
   "metadata": {},
   "outputs": [],
   "source": [
    "import seaborn as sns\n",
    "import matplotlib.pyplot as plt\n",
    "sns.set_style(\"darkgrid\", rc={\"lines.linewidth\":16})\n",
    "\n",
    "figure = plt.figure()\n",
    "colors = ['cyan','indigo','seagreen','yellow','blue','darkorange',\"red\"]\n",
    "ax = sns.tsplot(time=\"fprs\", value=\"tprs\", unit=\"fold\", condition=\"method\", data=frame, color=colors)\n",
    "plt.plot([0, 1], [0, 1], color='navy', lw=2, linestyle='--')\n",
    "plt.xlim([0.0, 1.0])\n",
    "plt.ylim([0.0, 1.05])\n",
    "plt.xlabel('False Positive Rate', fontsize=\"20\")\n",
    "plt.ylabel('True Positive Rate', fontsize=\"20\")\n",
    "plt.xticks(fontsize=\"20\")\n",
    "plt.yticks(fontsize=\"20\")\n",
    "plt.title('Receiver operating characteristic for repetitions', fontsize=\"25\")\n",
    "\n",
    "legend = plt.legend(loc=\"lower right\", fontsize=\"17\", frameon=True)\n",
    "frame = legend.get_frame()\n",
    "frame.set_facecolor('white')\n",
    "frame.set_edgecolor('black')\n",
    "# \n",
    "figure.set_size_inches(19, 12)\n",
    "figure.savefig('D:\\\\pycharm_workspace\\\\multiplex\\\\MuNeG\\\\results\\\\real\\\\tsplot\\\\real_tsplot_30.png', dpi=300)\n",
    "plt.close(figure)"
   ]
  },
  {
   "cell_type": "code",
   "execution_count": 21,
   "metadata": {},
   "outputs": [],
   "source": [
    "import matplotlib.pyplot as plt\n",
    "#matplotlib inline\n",
    "a = [0.0, 0.0, 0.0, 0.0, 0.0, 0.0, 0.0, 0.5, 0.5, 0.0, 0.0, 0.0, 0.0, 0.0, 0.5, 0.0, 0.0, 0.0, 0.0, 0.0, 0.0, 0.0, 0.0, 0.0, 0.99999999999839828, 0.99999999999839828, 0.99999999999919909, 0.0, 1.0, 0.0, 1.0, 0.0, 0.0, 0.0028320040388769775, 0.0, 0.0, 0.0, 0.0, 0.0, 0.0, 0.0, 0.0, 0.0, 0.0, 0.0, 0.0, 0.5, 0.0, 0.0, 0.99999999999839828, 0.0, 0.0, 0.0, 0.0, 0.0, 0.5, 0.5, 0.0, 0.0, 0.5, 0.0, 1.0, 0.0, 0.0, 0.0, 0.99992379210486204, 0.0, 0.0, 0.0, 0.0, 0.0, 0.0, 0.0, 0.0, 0.0, 0.0, 0.0, 0.0, 0.0, 0.0, 0.0, 0.0, 0.0, 0.0, 0.0, 0.5, 0.0, 0.0, 0.5, 0.5, 0.5, 0.0, 0.0, 0.5, 0.0, 0.0, 0.0, 0.0, 0.0, 0.0, 0.0, 0.0, 0.00010045418300092599, 0.0, 0.0, 0.0022861971810586804, 0.0020093035200184888, 0.0, 0.0, 0.001708433132029847, 0.0, 0.0, 0.0, 0.0, 0.0, 0.0, 0.0, 0.5, 0.0, 0.0, 0.0, 0.5, 0.0, 0.5, 0.5, 0.0, 0.5, 0.0, 0.0, 0.0, 0.5, 0.0, 0.0, 0.5, 0.0, 0.5, 0.0, 0.5, 0.0, 0.0, 0.5, 0.5, 0.0, 0.5, 0.0, 0.0, 0.5, 0.0, 0.0, 0.5, 0.0, 0.0, 0.0, 0.0, 0.0]\n",
    "plt.hist(a,bins=100)\n",
    "plt.show()"
   ]
  },
  {
   "cell_type": "code",
   "execution_count": null,
   "metadata": {},
   "outputs": [],
   "source": [
    ""
   ]
  }
 ],
 "metadata": {},
 "nbformat": 4,
 "nbformat_minor": 0
}