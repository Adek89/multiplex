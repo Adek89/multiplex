{
 "cells": [
  {
   "cell_type": "code",
   "execution_count": 1,
   "metadata": {
    "collapsed": true
   },
   "outputs": [],
   "source": [
    "import seaborn as sns\n",
    "import csv\n",
    "import pandas as pd\n",
    "import matplotlib.pyplot as plt"
   ]
  },
  {
   "cell_type": "code",
   "execution_count": 21,
   "metadata": {
    "collapsed": true
   },
   "outputs": [],
   "source": [
    "#synthetic data\n",
    "frame = pd.DataFrame()\n",
    "frame = pd.read_csv('D:\\\\pycharm_workspace\\\\multiplex\\\\MuNeG\\\\results\\\\synthetic\\\\lustre_results\\\\combined_synthetic_new.csv',index_col=None, header=0)\n",
    "nrOfLayers = 5"
   ]
  },
  {
   "cell_type": "code",
   "execution_count": 39,
   "metadata": {
    "collapsed": true
   },
   "outputs": [],
   "source": [
    "#real data\n",
    "frame = pd.DataFrame()\n",
    "frame = pd.read_csv('D:\\\\pycharm_workspace\\\\multiplex\\\\MuNeG\\\\results\\\\real\\\\lustre_results\\\\combined_danio.csv',index_col=None, header=0)\n",
    "nrOfLayers = 5\n",
    "frame = frame.drop('qty', 1)\n",
    "frame = frame.groupby([\"fold\",\"method\",\"rep\"], as_index=False).mean()"
   ]
  },
  {
   "cell_type": "code",
   "execution_count": 75,
   "metadata": {
    "collapsed": true
   },
   "outputs": [],
   "source": [
    "#real data airline\n",
    "frame = pd.DataFrame()\n",
    "frame = pd.read_csv('D:\\\\pycharm_workspace\\\\multiplex\\\\MuNeG\\\\results\\\\real_airline\\\\lustre_results\\\\combined_airline.csv',index_col=None, header=0)\n",
    "nrOfLayers = 132\n",
    "frame = frame.groupby([\"fold\",\"method\",\"rep\"], as_index=False).mean()"
   ]
  },
  {
   "cell_type": "code",
   "execution_count": 57,
   "metadata": {
    "collapsed": true
   },
   "outputs": [],
   "source": [
    "#real data star wars\n",
    "frame = pd.DataFrame()\n",
    "frame = pd.read_csv('D:\\\\pycharm_workspace\\\\multiplex\\\\MuNeG\\\\results\\\\real_sw\\\\lustre_results\\\\combined_sw.csv',index_col=None, header=0)\n",
    "nrOfLayers = 6\n",
    "frame = frame.groupby([\"fold\",\"method\",\"rep\"], as_index=False).mean()"
   ]
  },
  {
   "cell_type": "code",
   "execution_count": 93,
   "metadata": {
    "collapsed": true
   },
   "outputs": [],
   "source": [
    "#real data social evolution\n",
    "frame = pd.DataFrame()\n",
    "frame = pd.read_csv('D:\\\\pycharm_workspace\\\\multiplex\\\\MuNeG\\\\results\\\\real_se\\\\lustre_results\\\\combined_se.csv',index_col=None, header=0)\n",
    "nrOfLayers = 8\n",
    "frame = frame.groupby([\"fold\",\"method\",\"rep\"], as_index=False).mean()"
   ]
  },
  {
   "cell_type": "code",
   "execution_count": 94,
   "metadata": {
    "collapsed": false
   },
   "outputs": [],
   "source": [
    "output = frame.fillna(0)\n",
    "output['fold'] = output['fold'].map({0:0, 2: 50, 3: 66, 4:75, 5:80, 10:90, 20:95})\n",
    "output = output.drop(output[output.fold == 0].index)\n",
    "output = output.drop(output[output.method == 'max_layer'].index)\n",
    "output = output.drop(output[output.method == 'min_layer'].index)\n",
    "output = output.drop(output[output.method == 'avg_layer'].index)\n",
    "for l in xrange(1, nrOfLayers+1):\n",
    "    output = output.drop(output[output.method == 'L'+str(l)].index)\n",
    "output['method'] = output['method'].map({'reduction':'LR', 'fusion_sum': 'SF', 'fusion_mean': 'WL', 'fusion_layer':'FG', 'fusion_random': 'RF', 'fusion_convergence_max':'SCF', 'fusion_convergence_min':'FCF'})\n",
    "output[\"method\"] = pd.Categorical(output['method'], [\"LR\", \"SF\", \"WL\", \"FG\", \"RF\", \"SCF\", \"FCF\"])\n",
    "output = output.sort_values(by=\"method\")\n",
    "output = output.drop(output[output.fold == 0].index)\n",
    "output = output.drop(output[output.fold == 66].index)\n",
    "output = output.drop(output[output.fold == 80].index)\n",
    "output = output.drop(output[output.fold == 95].index)\n",
    "output = output.drop(output[output.fold == 50].index)\n",
    "output = output.drop(output[output.fold == 75].index)"
   ]
  },
  {
   "cell_type": "code",
   "execution_count": 95,
   "metadata": {
    "collapsed": true
   },
   "outputs": [],
   "source": [
    "sns.set(font='monospace', font_scale=2, palette=\"deep\", style='whitegrid')"
   ]
  },
  {
   "cell_type": "code",
   "execution_count": 142,
   "metadata": {
    "collapsed": true
   },
   "outputs": [],
   "source": [
    "ax = sns.tsplot(data=output,\n",
    "               time='fold',\n",
    "               value='auc',\n",
    "               unit='rep',\n",
    "               condition='method',\n",
    "               err_style=\"ci_band\", n_boot=5000)"
   ]
  },
  {
   "cell_type": "code",
   "execution_count": 96,
   "metadata": {
    "collapsed": true
   },
   "outputs": [],
   "source": [
    "ax = sns.boxplot(x=\"fold\", y=\"auc\", hue=\"method\", data=output)"
   ]
  },
  {
   "cell_type": "code",
   "execution_count": 97,
   "metadata": {
    "collapsed": false
   },
   "outputs": [
    {
     "data": {
      "text/plain": [
       "<matplotlib.text.Text at 0x288fbb70>"
      ]
     },
     "execution_count": 97,
     "metadata": {},
     "output_type": "execute_result"
    }
   ],
   "source": [
    "# ax.set_ylim(ymin=0.4)\n",
    "# ax.set_ylim(ymax=0.85)\n",
    "plt.title('AuC classification results')\n",
    "plt.xlabel('Known nodes[%]')\n",
    "plt.ylabel('Area under ROC-Curve')"
   ]
  },
  {
   "cell_type": "code",
   "execution_count": 98,
   "metadata": {
    "collapsed": true
   },
   "outputs": [],
   "source": [
    "plt.show()"
   ]
  },
  {
   "cell_type": "code",
   "execution_count": 17,
   "metadata": {
    "collapsed": false
   },
   "outputs": [
    {
     "data": {
      "text/html": [
       "<div>\n",
       "<table border=\"1\" class=\"dataframe\">\n",
       "  <thead>\n",
       "    <tr style=\"text-align: right;\">\n",
       "      <th></th>\n",
       "      <th>node</th>\n",
       "      <th>avg_size</th>\n",
       "      <th>gen_homogenity</th>\n",
       "      <th>prob_in</th>\n",
       "      <th>prob_out</th>\n",
       "      <th>layers</th>\n",
       "      <th>fold</th>\n",
       "      <th>method</th>\n",
       "      <th>auc</th>\n",
       "      <th>rep</th>\n",
       "    </tr>\n",
       "  </thead>\n",
       "  <tbody>\n",
       "  </tbody>\n",
       "</table>\n",
       "</div>"
      ],
      "text/plain": [
       "Empty DataFrame\n",
       "Columns: [node, avg_size, gen_homogenity, prob_in, prob_out, layers, fold, method, auc, rep]\n",
       "Index: []"
      ]
     },
     "execution_count": 17,
     "metadata": {},
     "output_type": "execute_result"
    }
   ],
   "source": [
    "output.loc[output['fold'] == 90]"
   ]
  },
  {
   "cell_type": "code",
   "execution_count": 18,
   "metadata": {
    "collapsed": true
   },
   "outputs": [],
   "source": []
  },
  {
   "cell_type": "code",
   "execution_count": 56,
   "metadata": {
    "collapsed": true
   },
   "outputs": [],
   "source": []
  },
  {
   "cell_type": "code",
   "execution_count": null,
   "metadata": {
    "collapsed": true
   },
   "outputs": [],
   "source": []
  }
 ],
 "metadata": {
  "kernelspec": {
   "display_name": "Python 2",
   "language": "python",
   "name": "python2"
  },
  "language_info": {
   "codemirror_mode": {
    "name": "ipython",
    "version": 2
   },
   "file_extension": ".py",
   "mimetype": "text/x-python",
   "name": "python",
   "nbconvert_exporter": "python",
   "pygments_lexer": "ipython2",
   "version": "2.7.13"
  }
 },
 "nbformat": 4,
 "nbformat_minor": 0
}
