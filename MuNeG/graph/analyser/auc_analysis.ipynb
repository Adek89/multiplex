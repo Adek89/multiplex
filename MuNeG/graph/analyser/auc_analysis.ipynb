{
 "cells": [
  {
   "cell_type": "code",
   "execution_count": 1,
   "metadata": {},
   "outputs": [],
   "source": [
    "import seaborn as sns\n",
    "import csv\n",
    "import pandas as pd\n",
    "import matplotlib.pyplot as plt"
   ]
  },
  {
   "cell_type": "code",
   "execution_count": 12,
   "metadata": {},
   "outputs": [],
   "source": [
    "#synthetic data\n",
    "frame = pd.DataFrame()\n",
    "frame = pd.read_csv('D:\\\\pycharm_workspace\\\\multiplex\\\\MuNeG\\\\results\\\\synthetic\\\\lustre_results\\\\combined_synthetic.csv',index_col=None, header=0)\n",
    "nrOfLayers = 5"
   ]
  },
  {
   "cell_type": "code",
   "execution_count": 38,
   "metadata": {},
   "outputs": [],
   "source": [
    "#real data\n",
    "frame = pd.DataFrame()\n",
    "frame = pd.read_csv('D:\\\\pycharm_workspace\\\\multiplex\\\\MuNeG\\\\results\\\\real\\\\lustre_results\\\\combined_danio.csv',index_col=None, header=0)\n",
    "nrOfLayers = 5\n",
    "frame = frame.drop('qty', 1)\n",
    "frame = frame.groupby([\"fold\",\"method\",\"rep\"], as_index=False).mean()"
   ]
  },
  {
   "cell_type": "code",
   "execution_count": 21,
   "metadata": {},
   "outputs": [],
   "source": [
    "#real data airline\n",
    "frame = pd.DataFrame()\n",
    "frame = pd.read_csv('D:\\\\pycharm_workspace\\\\multiplex\\\\MuNeG\\\\results\\\\real_airline\\\\lustre_results\\\\combined_airline.csv',index_col=None, header=0)\n",
    "nrOfLayers = 132\n",
    "frame = frame.groupby([\"fold\",\"method\",\"rep\"], as_index=False).mean()"
   ]
  },
  {
   "cell_type": "code",
   "execution_count": 44,
   "metadata": {},
   "outputs": [],
   "source": [
    "#real data star wars\n",
    "frame = pd.DataFrame()\n",
    "frame = pd.read_csv('D:\\\\pycharm_workspace\\\\multiplex\\\\MuNeG\\\\results\\\\real_sw\\\\lustre_results\\\\combined_sw.csv',index_col=None, header=0)\n",
    "nrOfLayers = 132\n",
    "frame = frame.groupby([\"fold\",\"method\",\"rep\"], as_index=False).mean()"
   ]
  },
  {
   "cell_type": "code",
   "execution_count": 50,
   "metadata": {},
   "outputs": [],
   "source": [
    "#real data social evolution\n",
    "frame = pd.DataFrame()\n",
    "frame = pd.read_csv('D:\\\\pycharm_workspace\\\\multiplex\\\\MuNeG\\\\results\\\\real_se\\\\lustre_results\\\\combined_se.csv',index_col=None, header=0)\n",
    "nrOfLayers = 8\n",
    "frame = frame.groupby([\"fold\",\"method\",\"rep\"], as_index=False).mean()"
   ]
  },
  {
   "cell_type": "code",
   "execution_count": 51,
   "metadata": {},
   "outputs": [],
   "source": [
    "output = frame.fillna(0)\n",
    "output['fold'] = output['fold'].map({0:0, 2: 50, 3: 66, 4:75, 5:80, 10:90, 20:95})\n",
    "output = output.drop(output[output.fold == 0].index)\n",
    "output = output.drop(output[output.method == 'max_layer'].index)\n",
    "output = output.drop(output[output.method == 'min_layer'].index)\n",
    "output = output.drop(output[output.method == 'avg_layer'].index)\n",
    "for l in xrange(1, nrOfLayers+1):\n",
    "    output = output.drop(output[output.method == 'L'+str(l)].index)\n",
    "output['method'] = output['method'].map({'reduction':'LR', 'fusion_sum': 'SF', 'fusion_mean': 'MF', 'fusion_layer':'LF', 'fusion_random': 'RF', 'fusion_convergence_max':'SCF', 'fusion_convergence_min':'FCF'})\n",
    "output[\"method\"] = pd.Categorical(output['method'], [\"LR\", \"SF\", \"MF\", \"LF\", \"RF\", \"SCF\", \"FCF\"])\n",
    "output = output.sort_values(by=\"method\")"
   ]
  },
  {
   "cell_type": "code",
   "execution_count": 52,
   "metadata": {},
   "outputs": [],
   "source": [
    "sns.set(font='monospace', palette=\"deep\", style='whitegrid')"
   ]
  },
  {
   "cell_type": "code",
   "execution_count": 53,
   "metadata": {},
   "outputs": [],
   "source": [
    "ax = sns.tsplot(data=output,\n",
    "               time='fold',\n",
    "               value='auc',\n",
    "               unit='rep',\n",
    "               condition='method',\n",
    "               err_style=\"boot_traces\", n_boot=500)"
   ]
  },
  {
   "cell_type": "code",
   "execution_count": 54,
   "metadata": {},
   "outputs": [
    {
     "data": {
      "text/plain": [
       "<matplotlib.text.Text at 0x5cc64cf8>"
      ]
     },
     "execution_count": 54,
     "output_type": "execute_result",
     "metadata": {}
    }
   ],
   "source": [
    "plt.title('AuC classification results')\n",
    "plt.xlabel('Known nodes[%]')\n",
    "plt.ylabel('Area under ROC-Curve')"
   ]
  },
  {
   "cell_type": "code",
   "execution_count": 55,
   "metadata": {},
   "outputs": [],
   "source": [
    "plt.show()"
   ]
  },
  {
   "cell_type": "code",
   "execution_count": 77,
   "metadata": {},
   "outputs": [],
   "source": [
    ""
   ]
  },
  {
   "cell_type": "code",
   "execution_count": 18,
   "metadata": {},
   "outputs": [],
   "source": [
    ""
   ]
  },
  {
   "cell_type": "code",
   "execution_count": 56,
   "metadata": {},
   "outputs": [],
   "source": [
    ""
   ]
  },
  {
   "cell_type": "code",
   "execution_count": null,
   "metadata": {},
   "outputs": [],
   "source": [
    ""
   ]
  }
 ],
 "metadata": {},
 "nbformat": 4,
 "nbformat_minor": 0
}