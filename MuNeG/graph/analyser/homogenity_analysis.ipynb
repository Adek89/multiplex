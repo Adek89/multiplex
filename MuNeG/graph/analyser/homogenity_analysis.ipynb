{
 "cells": [
  {
   "cell_type": "code",
   "execution_count": 2,
   "metadata": {
    "collapsed": true
   },
   "outputs": [],
   "source": [
    "import seaborn as sns\n",
    "import csv\n",
    "import pandas as pd\n",
    "import matplotlib.pyplot as plt"
   ]
  },
  {
   "cell_type": "code",
   "execution_count": 353,
   "metadata": {
    "collapsed": true
   },
   "outputs": [],
   "source": [
    "#synthetic data\n",
    "frame = pd.DataFrame()\n",
    "frame = pd.read_csv('D:\\\\pycharm_workspace\\\\multiplex\\\\MuNeG\\\\results\\\\synthetic\\\\lustre_results\\\\combined_synthetic_homogenity_with_density.csv',index_col=None, header=0)\n",
    "nrOfLayers = 5"
   ]
  },
  {
   "cell_type": "code",
   "execution_count": 3,
   "metadata": {
    "collapsed": false
   },
   "outputs": [],
   "source": [
    "#real data\n",
    "frame = pd.DataFrame()\n",
    "frame = pd.read_csv('D:\\\\pycharm_workspace\\\\multiplex\\\\MuNeG\\\\results\\\\real_se\\\\lustre_results\\\\combined_uniplex.csv',index_col=None, header=0)\n",
    "nrOfLayers = 6"
   ]
  },
  {
   "cell_type": "code",
   "execution_count": 3,
   "metadata": {
    "collapsed": true
   },
   "outputs": [],
   "source": [
    "frame['fold'] = frame['fold'].map({0:0, 2: 50, 3: 66, 4:75, 5:80, 10:90, 20:95})\n",
    "frame = frame.drop(frame[frame.fold == 66].index)\n",
    "frame = frame.drop(frame[frame.fold == 75].index)\n",
    "frame = frame.drop(frame[frame.fold == 80].index)\n",
    "frame = frame.drop(frame[frame.fold == 50].index)\n",
    "frame = frame.drop(frame[frame.fold == 95].index)\n",
    "old_frame = frame\n",
    "frame = pd.melt(frame, id_vars=['homogenity', 'rep', 'density'],value_vars=[\"LR\",\"SF\",\"WL\",\"LF\",\"RF\",\"SCF\",\"FCF\"])\n",
    "\n",
    "frame[\"variable\"] = pd.Categorical(frame['variable'], [\"LR\", \"SF\", \"WL\", \"LF\", \"RF\", \"SCF\", \"FCF\"])"
   ]
  },
  {
   "cell_type": "code",
   "execution_count": 166,
   "metadata": {
    "collapsed": true
   },
   "outputs": [],
   "source": [
    "mask = frame.homogenity <= 0.2\n",
    "column_name = 'homogenity'\n",
    "frame.loc[mask, column_name] = \"[0.0 - 0.2]\"\n",
    "\n",
    "mask = frame.homogenity <= 0.4\n",
    "column_name = 'homogenity'\n",
    "frame.loc[mask, column_name] = \"[0.2 - 0.4]\"\n",
    "\n",
    "mask = frame.homogenity <= 0.6\n",
    "column_name = 'homogenity'\n",
    "frame.loc[mask, column_name] = \"[0.4 - 0.6]\"\n",
    "\n",
    "mask = frame.homogenity <= 0.8\n",
    "column_name = 'homogenity'\n",
    "frame.loc[mask, column_name] = \"[0.6 - 0.8]\"\n",
    "\n",
    "mask = frame.homogenity <= 1.0\n",
    "column_name = 'homogenity'\n",
    "frame.loc[mask, column_name] = \"[0.8 - 1.0]\"\n",
    "\n",
    "frame = frame.sort_values(by=[\"variable\",\"homogenity\"])"
   ]
  },
  {
   "cell_type": "code",
   "execution_count": 167,
   "metadata": {
    "collapsed": true
   },
   "outputs": [],
   "source": [
    "sns.set(font='monospace', font_scale=2, palette=\"deep\", style='whitegrid')"
   ]
  },
  {
   "cell_type": "code",
   "execution_count": 168,
   "metadata": {
    "collapsed": true
   },
   "outputs": [],
   "source": [
    "frame.rename(columns = {'variable':'method'}, inplace = True)"
   ]
  },
  {
   "cell_type": "code",
   "execution_count": 708,
   "metadata": {
    "collapsed": true
   },
   "outputs": [],
   "source": [
    "fig, ax = plt.subplots()"
   ]
  },
  {
   "cell_type": "code",
   "execution_count": 169,
   "metadata": {
    "collapsed": true
   },
   "outputs": [],
   "source": [
    "bx = sns.boxplot(x=\"homogenity\", y=\"value\", hue=\"method\", data=frame)"
   ]
  },
  {
   "cell_type": "code",
   "execution_count": 38,
   "metadata": {
    "collapsed": true
   },
   "outputs": [],
   "source": [
    "mask = old_frame.homogenity <= 0.2\n",
    "column_name = 'homogenity'\n",
    "old_frame.loc[mask, column_name] = \"0\"\n",
    "\n",
    "mask = old_frame.homogenity <= 0.4\n",
    "column_name = 'homogenity'\n",
    "old_frame.loc[mask, column_name] = \"1\"\n",
    "\n",
    "mask = old_frame.homogenity <= 0.6\n",
    "column_name = 'homogenity'\n",
    "old_frame.loc[mask, column_name] = \"2\"\n",
    "\n",
    "mask = old_frame.homogenity <= 0.8\n",
    "column_name = 'homogenity'\n",
    "old_frame.loc[mask, column_name] = \"3\"\n",
    "\n",
    "mask = old_frame.homogenity <= 1.0\n",
    "column_name = 'homogenity'\n",
    "old_frame.loc[mask, column_name] = \"4\"\n",
    "\n",
    "old_frame = old_frame.sort_values(by=[\"density\",\"homogenity\"])"
   ]
  },
  {
   "cell_type": "code",
   "execution_count": 9,
   "metadata": {
    "collapsed": true
   },
   "outputs": [],
   "source": [
    "old_frame = pd.melt(old_frame, id_vars=['homogenity', 'rep', 'density'],value_vars=[\"LR\",\"SF\",\"MF\",\"LF\",\"RF\",\"SCF\",\"FCF\"])\n",
    "old_frame = old_frame.groupby(by=[\"homogenity\",\"variable\", \"rep\"], as_index=False).mean()\n",
    "ts = sns.tsplot(data=old_frame, time=\"homogenity\", unit=\"rep\", value=\"density\", condition=\"variable\", err_style=\"boot_traces\", n_boot=500, ax=ax)"
   ]
  },
  {
   "cell_type": "code",
   "execution_count": 170,
   "metadata": {
    "collapsed": false
   },
   "outputs": [
    {
     "data": {
      "text/plain": [
       "<matplotlib.text.Text at 0x39846b00>"
      ]
     },
     "execution_count": 170,
     "metadata": {},
     "output_type": "execute_result"
    }
   ],
   "source": [
    "plt.title('AuC classification results for 90% of known nodes')\n",
    "plt.xlabel('Homogenity groups')\n",
    "plt.ylabel('Area under ROC-Curve for different homogenity')"
   ]
  },
  {
   "cell_type": "code",
   "execution_count": 171,
   "metadata": {
    "collapsed": false
   },
   "outputs": [
    {
     "data": {
      "text/plain": [
       "(0.0, 1.1)"
      ]
     },
     "execution_count": 171,
     "metadata": {},
     "output_type": "execute_result"
    }
   ],
   "source": [
    "bx.set_ylim(0.0,1.1)"
   ]
  },
  {
   "cell_type": "code",
   "execution_count": 173,
   "metadata": {
    "collapsed": true
   },
   "outputs": [],
   "source": [
    "plt.show()"
   ]
  },
  {
   "cell_type": "code",
   "execution_count": 172,
   "metadata": {
    "collapsed": false
   },
   "outputs": [
    {
     "data": {
      "text/plain": [
       "[None, None, None, None, None, None]"
      ]
     },
     "execution_count": 172,
     "metadata": {},
     "output_type": "execute_result"
    }
   ],
   "source": [
    "ax2 = plt.axes([0.23, 0.60, 0.25, 0.25])\n",
    "sns.tsplot(data=sum_frame,\n",
    "               time='homogenity',\n",
    "               value='value',\n",
    "               unit='rep',\n",
    "               condition='variable',\n",
    "               err_style=\"boot_traces\", n_boot=500\n",
    "           , ax=ax2\n",
    "          )\n",
    "ax2.legend_.draggable(True)\n",
    "ax2.legend_.loc = 4\n",
    "ax2.legend_.ncol = 4\n",
    "leg = ax2.legend_\n",
    "leg.set_title('method',prop={'size':15})\n",
    "\n",
    "\n",
    "ax2.xaxis.get_major_ticks()[1].set_visible(False)\n",
    "ax2.xaxis.get_major_ticks()[3].set_visible(False)\n",
    "ax2.xaxis.get_major_ticks()[5].set_visible(False)\n",
    "ax2.xaxis.get_major_ticks()[7].set_visible(False)\n",
    "\n",
    "labels = [item.get_text() for item in ax2.get_xticklabels()]\n",
    "labels[0] = \"[0.0 - 0.2]\"\n",
    "labels[2] = \"[0.2 - 0.4]\"\n",
    "labels[4] = \"[0.4 - 0.6]\"\n",
    "labels[6] = \"[0.6 - 0.8]\"\n",
    "labels[8] = \"[0.8 - 1.0]\"\n",
    "ax2.set_xticklabels(labels)\n",
    "[item.set_fontsize(15) for item in ax2.get_xticklabels()]\n",
    "[item.set_fontsize(15) for item in ax2.get_yticklabels()]\n",
    "ax2.title.set_fontsize(15)\n",
    "ax2.xaxis.set_label_text(\"Median homogenity for LR and SF\")\n",
    "ax2.xaxis.label.set_fontsize(15)\n",
    "ax2.yaxis.label.set_fontsize(15)\n",
    "[item.set_fontsize(15) for item in leg.get_texts()]\n",
    "plt.setp(ax2.lines,linewidth=3) \n",
    "plt.setp(ax2.legend_.get_lines(),linewidth=3)"
   ]
  },
  {
   "cell_type": "code",
   "execution_count": 36,
   "metadata": {
    "collapsed": false
   },
   "outputs": [
    {
     "data": {
      "text/plain": [
       "[None, None, None, None, None, None]"
      ]
     },
     "execution_count": 36,
     "metadata": {},
     "output_type": "execute_result"
    }
   ],
   "source": []
  },
  {
   "cell_type": "code",
   "execution_count": 140,
   "metadata": {
    "collapsed": true
   },
   "outputs": [],
   "source": [
    "old_frame\n",
    "old_frame = pd.melt(old_frame, id_vars=['homogenity', 'rep', 'density'],value_vars=[\"LR\",\"SF\",\"WL\",\"LF\",\"RF\",\"SCF\",\"FCF\"])"
   ]
  },
  {
   "cell_type": "code",
   "execution_count": 141,
   "metadata": {
    "collapsed": true
   },
   "outputs": [],
   "source": [
    "mask = old_frame.variable == \"LR\"\n",
    "column_name = 'variable'\n",
    "old_frame.loc[mask, column_name] = \"LR - Star Wars\"\n",
    "mask = old_frame.variable == \"SF\"\n",
    "column_name = 'variable'\n",
    "old_frame.loc[mask, column_name] = \"SF - Star Wars\""
   ]
  },
  {
   "cell_type": "code",
   "execution_count": 142,
   "metadata": {
    "collapsed": true
   },
   "outputs": [],
   "source": [
    "old_frame[\"variable\"] = pd.Categorical(old_frame['variable'], [\"LR - Star Wars\", \"SF - Star Wars\", \"WL\", \"LF\", \"RF\", \"SCF\", \"FCF\"])"
   ]
  },
  {
   "cell_type": "code",
   "execution_count": 143,
   "metadata": {
    "collapsed": true
   },
   "outputs": [],
   "source": [
    "mask = old_frame.homogenity <= 0.2\n",
    "column_name = 'homogenity'\n",
    "old_frame.loc[mask, column_name] = \"0.2\"\n",
    "\n",
    "mask = old_frame.homogenity <= 0.4\n",
    "column_name = 'homogenity'\n",
    "old_frame.loc[mask, column_name] = \"0.4\"\n",
    "\n",
    "mask = old_frame.homogenity <= 0.6\n",
    "column_name = 'homogenity'\n",
    "old_frame.loc[mask, column_name] = \"0.6\"\n",
    "\n",
    "mask = old_frame.homogenity <= 0.8\n",
    "column_name = 'homogenity'\n",
    "old_frame.loc[mask, column_name] = \"0.8\"\n",
    "\n",
    "mask = old_frame.homogenity <= 1.0\n",
    "column_name = 'homogenity'\n",
    "old_frame.loc[mask, column_name] = \"1.0\"\n",
    "\n",
    "old_frame = old_frame.sort_values(by=[\"variable\",\"homogenity\"])"
   ]
  },
  {
   "cell_type": "code",
   "execution_count": 144,
   "metadata": {
    "collapsed": true
   },
   "outputs": [],
   "source": [
    "old_frame = old_frame.groupby([\"homogenity\", \"variable\"])[\"value\"].median().reset_index()"
   ]
  },
  {
   "cell_type": "code",
   "execution_count": 145,
   "metadata": {
    "collapsed": false
   },
   "outputs": [
    {
     "data": {
      "text/html": [
       "<div>\n",
       "<table border=\"1\" class=\"dataframe\">\n",
       "  <thead>\n",
       "    <tr style=\"text-align: right;\">\n",
       "      <th></th>\n",
       "      <th>homogenity</th>\n",
       "      <th>variable</th>\n",
       "      <th>value</th>\n",
       "      <th>rep</th>\n",
       "    </tr>\n",
       "  </thead>\n",
       "  <tbody>\n",
       "    <tr>\n",
       "      <th>0</th>\n",
       "      <td>0.2</td>\n",
       "      <td>LR - Star Wars</td>\n",
       "      <td>0.270368</td>\n",
       "      <td>1</td>\n",
       "    </tr>\n",
       "    <tr>\n",
       "      <th>1</th>\n",
       "      <td>0.2</td>\n",
       "      <td>SF - Star Wars</td>\n",
       "      <td>0.201172</td>\n",
       "      <td>1</td>\n",
       "    </tr>\n",
       "    <tr>\n",
       "      <th>7</th>\n",
       "      <td>0.4</td>\n",
       "      <td>LR - Star Wars</td>\n",
       "      <td>0.329799</td>\n",
       "      <td>1</td>\n",
       "    </tr>\n",
       "    <tr>\n",
       "      <th>8</th>\n",
       "      <td>0.4</td>\n",
       "      <td>SF - Star Wars</td>\n",
       "      <td>0.291853</td>\n",
       "      <td>1</td>\n",
       "    </tr>\n",
       "    <tr>\n",
       "      <th>14</th>\n",
       "      <td>0.6</td>\n",
       "      <td>LR - Star Wars</td>\n",
       "      <td>0.443917</td>\n",
       "      <td>1</td>\n",
       "    </tr>\n",
       "    <tr>\n",
       "      <th>15</th>\n",
       "      <td>0.6</td>\n",
       "      <td>SF - Star Wars</td>\n",
       "      <td>0.441406</td>\n",
       "      <td>1</td>\n",
       "    </tr>\n",
       "    <tr>\n",
       "      <th>21</th>\n",
       "      <td>0.8</td>\n",
       "      <td>LR - Star Wars</td>\n",
       "      <td>0.557199</td>\n",
       "      <td>1</td>\n",
       "    </tr>\n",
       "    <tr>\n",
       "      <th>22</th>\n",
       "      <td>0.8</td>\n",
       "      <td>SF - Star Wars</td>\n",
       "      <td>0.551060</td>\n",
       "      <td>1</td>\n",
       "    </tr>\n",
       "    <tr>\n",
       "      <th>28</th>\n",
       "      <td>1.0</td>\n",
       "      <td>LR - Star Wars</td>\n",
       "      <td>0.901925</td>\n",
       "      <td>1</td>\n",
       "    </tr>\n",
       "    <tr>\n",
       "      <th>29</th>\n",
       "      <td>1.0</td>\n",
       "      <td>SF - Star Wars</td>\n",
       "      <td>0.950056</td>\n",
       "      <td>1</td>\n",
       "    </tr>\n",
       "  </tbody>\n",
       "</table>\n",
       "</div>"
      ]
     },
     "metadata": {},
     "output_type": "execute_result"
    }
   ],
   "source": [
    "old_frame['rep']=1\n",
    "old_frame = old_frame.drop(old_frame[old_frame.variable == \"WL\"].index)\n",
    "old_frame = old_frame.drop(old_frame[old_frame.variable == \"LF\"].index)\n",
    "old_frame = old_frame.drop(old_frame[old_frame.variable == \"RF\"].index)\n",
    "old_frame = old_frame.drop(old_frame[old_frame.variable == \"SCF\"].index)\n",
    "old_frame = old_frame.drop(old_frame[old_frame.variable == \"FCF\"].index)\n",
    "old_frame"
   ]
  },
  {
   "cell_type": "code",
   "execution_count": 146,
   "metadata": {
    "collapsed": true
   },
   "outputs": [],
   "source": [
    "old_frame.variable = old_frame.variable.cat.remove_unused_categories()"
   ]
  },
  {
   "cell_type": "code",
   "execution_count": 117,
   "metadata": {
    "collapsed": true
   },
   "outputs": [],
   "source": [
    "sum_frame = old_frame.copy()"
   ]
  },
  {
   "cell_type": "code",
   "execution_count": 107,
   "metadata": {
    "collapsed": true
   },
   "outputs": [],
   "source": [
    "frame_synt = pd.DataFrame()\n",
    "frame_synt = pd.read_csv('D:\\\\pycharm_workspace\\\\multiplex\\\\MuNeG\\\\results\\\\synthetic\\\\lustre_results\\\\combined_synthetic_homogenity_with_density_20180521.csv',index_col=None, header=0)\n",
    "nrOfLayers = 5"
   ]
  },
  {
   "cell_type": "code",
   "execution_count": 108,
   "metadata": {
    "collapsed": true
   },
   "outputs": [],
   "source": [
    "frame_synt['fold'] = frame_synt['fold'].map({0:0, 2: 50, 3: 66, 4:75, 5:80, 10:90, 20:95})\n",
    "frame_synt = frame_synt.drop(frame_synt[frame_synt.fold == 66].index)\n",
    "frame_synt = frame_synt.drop(frame_synt[frame_synt.fold == 75].index)\n",
    "frame_synt = frame_synt.drop(frame_synt[frame_synt.fold == 80].index)\n",
    "frame_synt = frame_synt.drop(frame_synt[frame_synt.fold == 50].index)\n",
    "frame_synt = frame_synt.drop(frame_synt[frame_synt.fold == 95].index)\n",
    "old_frame = frame_synt"
   ]
  },
  {
   "cell_type": "code",
   "execution_count": 119,
   "metadata": {
    "collapsed": true
   },
   "outputs": [],
   "source": [
    "frame_synt = pd.DataFrame()\n",
    "frame_synt = pd.read_csv('D:\\\\pycharm_workspace\\\\multiplex\\\\MuNeG\\\\results\\\\real\\\\lustre_results\\\\combined_real_homogenity_with_density_20180521.csv',index_col=None, header=0)\n",
    "nrOfLayers = 5"
   ]
  },
  {
   "cell_type": "code",
   "execution_count": 120,
   "metadata": {
    "collapsed": true
   },
   "outputs": [],
   "source": [
    "frame_synt['fold'] = frame_synt['fold'].map({0:0, 2: 50, 3: 66, 4:75, 5:80, 10:90, 20:95})\n",
    "frame_synt = frame_synt.drop(frame_synt[frame_synt.fold == 66].index)\n",
    "frame_synt = frame_synt.drop(frame_synt[frame_synt.fold == 75].index)\n",
    "frame_synt = frame_synt.drop(frame_synt[frame_synt.fold == 80].index)\n",
    "frame_synt = frame_synt.drop(frame_synt[frame_synt.fold == 50].index)\n",
    "frame_synt = frame_synt.drop(frame_synt[frame_synt.fold == 95].index)\n",
    "old_frame = frame_synt"
   ]
  },
  {
   "cell_type": "code",
   "execution_count": 147,
   "metadata": {
    "collapsed": true
   },
   "outputs": [],
   "source": [
    "old_frame.variable\n",
    "old_frame['variable'] = old_frame.variable.astype(str)"
   ]
  },
  {
   "cell_type": "code",
   "execution_count": 149,
   "metadata": {
    "collapsed": true
   },
   "outputs": [],
   "source": [
    "sum_frame = sum_frame.append(old_frame)"
   ]
  },
  {
   "cell_type": "code",
   "execution_count": 150,
   "metadata": {
    "collapsed": false
   },
   "outputs": [
    {
     "data": {
      "text/html": [
       "<div>\n",
       "<table border=\"1\" class=\"dataframe\">\n",
       "  <thead>\n",
       "    <tr style=\"text-align: right;\">\n",
       "      <th></th>\n",
       "      <th>homogenity</th>\n",
       "      <th>variable</th>\n",
       "      <th>value</th>\n",
       "      <th>rep</th>\n",
       "    </tr>\n",
       "  </thead>\n",
       "  <tbody>\n",
       "    <tr>\n",
       "      <th>0</th>\n",
       "      <td>0.2</td>\n",
       "      <td>LR - Synthetic</td>\n",
       "      <td>0.480072</td>\n",
       "      <td>1</td>\n",
       "    </tr>\n",
       "    <tr>\n",
       "      <th>1</th>\n",
       "      <td>0.2</td>\n",
       "      <td>SF - Synthetic</td>\n",
       "      <td>0.014493</td>\n",
       "      <td>1</td>\n",
       "    </tr>\n",
       "    <tr>\n",
       "      <th>7</th>\n",
       "      <td>0.4</td>\n",
       "      <td>LR - Synthetic</td>\n",
       "      <td>0.490741</td>\n",
       "      <td>1</td>\n",
       "    </tr>\n",
       "    <tr>\n",
       "      <th>8</th>\n",
       "      <td>0.4</td>\n",
       "      <td>SF - Synthetic</td>\n",
       "      <td>0.130636</td>\n",
       "      <td>1</td>\n",
       "    </tr>\n",
       "    <tr>\n",
       "      <th>14</th>\n",
       "      <td>0.6</td>\n",
       "      <td>LR - Synthetic</td>\n",
       "      <td>0.500000</td>\n",
       "      <td>1</td>\n",
       "    </tr>\n",
       "    <tr>\n",
       "      <th>15</th>\n",
       "      <td>0.6</td>\n",
       "      <td>SF - Synthetic</td>\n",
       "      <td>0.483494</td>\n",
       "      <td>1</td>\n",
       "    </tr>\n",
       "    <tr>\n",
       "      <th>21</th>\n",
       "      <td>0.8</td>\n",
       "      <td>LR - Synthetic</td>\n",
       "      <td>0.509259</td>\n",
       "      <td>1</td>\n",
       "    </tr>\n",
       "    <tr>\n",
       "      <th>22</th>\n",
       "      <td>0.8</td>\n",
       "      <td>SF - Synthetic</td>\n",
       "      <td>0.869968</td>\n",
       "      <td>1</td>\n",
       "    </tr>\n",
       "    <tr>\n",
       "      <th>28</th>\n",
       "      <td>1.0</td>\n",
       "      <td>LR - Synthetic</td>\n",
       "      <td>0.530596</td>\n",
       "      <td>1</td>\n",
       "    </tr>\n",
       "    <tr>\n",
       "      <th>29</th>\n",
       "      <td>1.0</td>\n",
       "      <td>SF - Synthetic</td>\n",
       "      <td>0.994565</td>\n",
       "      <td>1</td>\n",
       "    </tr>\n",
       "    <tr>\n",
       "      <th>0</th>\n",
       "      <td>0.2</td>\n",
       "      <td>LR - Danio Rerio</td>\n",
       "      <td>0.192940</td>\n",
       "      <td>1</td>\n",
       "    </tr>\n",
       "    <tr>\n",
       "      <th>1</th>\n",
       "      <td>0.2</td>\n",
       "      <td>SF - Danio Rerio</td>\n",
       "      <td>0.169811</td>\n",
       "      <td>1</td>\n",
       "    </tr>\n",
       "    <tr>\n",
       "      <th>7</th>\n",
       "      <td>0.4</td>\n",
       "      <td>LR - Danio Rerio</td>\n",
       "      <td>0.295267</td>\n",
       "      <td>1</td>\n",
       "    </tr>\n",
       "    <tr>\n",
       "      <th>8</th>\n",
       "      <td>0.4</td>\n",
       "      <td>SF - Danio Rerio</td>\n",
       "      <td>0.274182</td>\n",
       "      <td>1</td>\n",
       "    </tr>\n",
       "    <tr>\n",
       "      <th>14</th>\n",
       "      <td>0.6</td>\n",
       "      <td>LR - Danio Rerio</td>\n",
       "      <td>0.489731</td>\n",
       "      <td>1</td>\n",
       "    </tr>\n",
       "    <tr>\n",
       "      <th>15</th>\n",
       "      <td>0.6</td>\n",
       "      <td>SF - Danio Rerio</td>\n",
       "      <td>0.464306</td>\n",
       "      <td>1</td>\n",
       "    </tr>\n",
       "    <tr>\n",
       "      <th>21</th>\n",
       "      <td>0.8</td>\n",
       "      <td>LR - Danio Rerio</td>\n",
       "      <td>0.743695</td>\n",
       "      <td>1</td>\n",
       "    </tr>\n",
       "    <tr>\n",
       "      <th>22</th>\n",
       "      <td>0.8</td>\n",
       "      <td>SF - Danio Rerio</td>\n",
       "      <td>0.761428</td>\n",
       "      <td>1</td>\n",
       "    </tr>\n",
       "    <tr>\n",
       "      <th>28</th>\n",
       "      <td>1.0</td>\n",
       "      <td>LR - Danio Rerio</td>\n",
       "      <td>0.951324</td>\n",
       "      <td>1</td>\n",
       "    </tr>\n",
       "    <tr>\n",
       "      <th>29</th>\n",
       "      <td>1.0</td>\n",
       "      <td>SF - Danio Rerio</td>\n",
       "      <td>0.958588</td>\n",
       "      <td>1</td>\n",
       "    </tr>\n",
       "    <tr>\n",
       "      <th>0</th>\n",
       "      <td>0.2</td>\n",
       "      <td>LR - Star Wars</td>\n",
       "      <td>0.270368</td>\n",
       "      <td>1</td>\n",
       "    </tr>\n",
       "    <tr>\n",
       "      <th>1</th>\n",
       "      <td>0.2</td>\n",
       "      <td>SF - Star Wars</td>\n",
       "      <td>0.201172</td>\n",
       "      <td>1</td>\n",
       "    </tr>\n",
       "    <tr>\n",
       "      <th>7</th>\n",
       "      <td>0.4</td>\n",
       "      <td>LR - Star Wars</td>\n",
       "      <td>0.329799</td>\n",
       "      <td>1</td>\n",
       "    </tr>\n",
       "    <tr>\n",
       "      <th>8</th>\n",
       "      <td>0.4</td>\n",
       "      <td>SF - Star Wars</td>\n",
       "      <td>0.291853</td>\n",
       "      <td>1</td>\n",
       "    </tr>\n",
       "    <tr>\n",
       "      <th>14</th>\n",
       "      <td>0.6</td>\n",
       "      <td>LR - Star Wars</td>\n",
       "      <td>0.443917</td>\n",
       "      <td>1</td>\n",
       "    </tr>\n",
       "    <tr>\n",
       "      <th>15</th>\n",
       "      <td>0.6</td>\n",
       "      <td>SF - Star Wars</td>\n",
       "      <td>0.441406</td>\n",
       "      <td>1</td>\n",
       "    </tr>\n",
       "    <tr>\n",
       "      <th>21</th>\n",
       "      <td>0.8</td>\n",
       "      <td>LR - Star Wars</td>\n",
       "      <td>0.557199</td>\n",
       "      <td>1</td>\n",
       "    </tr>\n",
       "    <tr>\n",
       "      <th>22</th>\n",
       "      <td>0.8</td>\n",
       "      <td>SF - Star Wars</td>\n",
       "      <td>0.551060</td>\n",
       "      <td>1</td>\n",
       "    </tr>\n",
       "    <tr>\n",
       "      <th>28</th>\n",
       "      <td>1.0</td>\n",
       "      <td>LR - Star Wars</td>\n",
       "      <td>0.901925</td>\n",
       "      <td>1</td>\n",
       "    </tr>\n",
       "    <tr>\n",
       "      <th>29</th>\n",
       "      <td>1.0</td>\n",
       "      <td>SF - Star Wars</td>\n",
       "      <td>0.950056</td>\n",
       "      <td>1</td>\n",
       "    </tr>\n",
       "  </tbody>\n",
       "</table>\n",
       "</div>"
      ]
     },
     "metadata": {},
     "output_type": "execute_result"
    }
   ],
   "source": [
    "sum_frame"
   ]
  },
  {
   "cell_type": "code",
   "execution_count": 151,
   "metadata": {
    "collapsed": true
   },
   "outputs": [],
   "source": [
    "sum_frame.to_pickle('D:\\\\pycharm_workspace\\\\multiplex\\\\MuNeG\\\\graph\\\\analyser\\\\sum_frame_for_insets.pickle')"
   ]
  },
  {
   "cell_type": "code",
   "execution_count": 5,
   "metadata": {
    "collapsed": true
   },
   "outputs": [],
   "source": [
    "sum_frame = pd.read_pickle('D:\\\\pycharm_workspace\\\\multiplex\\\\MuNeG\\\\graph\\\\analyser\\\\sum_frame_for_insets.pickle')"
   ]
  },
  {
   "cell_type": "code",
   "execution_count": 640,
   "metadata": {
    "collapsed": false
   },
   "outputs": [
    {
     "data": {
      "text/html": [
       "<div>\n",
       "<table border=\"1\" class=\"dataframe\">\n",
       "  <thead>\n",
       "    <tr style=\"text-align: right;\">\n",
       "      <th></th>\n",
       "      <th>homogenity</th>\n",
       "      <th>variable</th>\n",
       "      <th>value</th>\n",
       "      <th>rep</th>\n",
       "    </tr>\n",
       "  </thead>\n",
       "  <tbody>\n",
       "    <tr>\n",
       "      <th>0</th>\n",
       "      <td>0.2</td>\n",
       "      <td>LR_SE</td>\n",
       "      <td>0.510870</td>\n",
       "      <td>1</td>\n",
       "    </tr>\n",
       "    <tr>\n",
       "      <th>1</th>\n",
       "      <td>0.2</td>\n",
       "      <td>SF_SE</td>\n",
       "      <td>0.987923</td>\n",
       "      <td>1</td>\n",
       "    </tr>\n",
       "    <tr>\n",
       "      <th>7</th>\n",
       "      <td>0.4</td>\n",
       "      <td>LR_SE</td>\n",
       "      <td>0.510870</td>\n",
       "      <td>1</td>\n",
       "    </tr>\n",
       "    <tr>\n",
       "      <th>8</th>\n",
       "      <td>0.4</td>\n",
       "      <td>SF_SE</td>\n",
       "      <td>0.873188</td>\n",
       "      <td>1</td>\n",
       "    </tr>\n",
       "    <tr>\n",
       "      <th>14</th>\n",
       "      <td>0.6</td>\n",
       "      <td>LR_SE</td>\n",
       "      <td>0.500000</td>\n",
       "      <td>1</td>\n",
       "    </tr>\n",
       "    <tr>\n",
       "      <th>15</th>\n",
       "      <td>0.6</td>\n",
       "      <td>SF_SE</td>\n",
       "      <td>0.633454</td>\n",
       "      <td>1</td>\n",
       "    </tr>\n",
       "    <tr>\n",
       "      <th>21</th>\n",
       "      <td>0.8</td>\n",
       "      <td>LR_SE</td>\n",
       "      <td>0.510870</td>\n",
       "      <td>1</td>\n",
       "    </tr>\n",
       "    <tr>\n",
       "      <th>22</th>\n",
       "      <td>0.8</td>\n",
       "      <td>SF_SE</td>\n",
       "      <td>0.884863</td>\n",
       "      <td>1</td>\n",
       "    </tr>\n",
       "    <tr>\n",
       "      <th>28</th>\n",
       "      <td>1.0</td>\n",
       "      <td>LR_SE</td>\n",
       "      <td>0.539452</td>\n",
       "      <td>1</td>\n",
       "    </tr>\n",
       "    <tr>\n",
       "      <th>29</th>\n",
       "      <td>1.0</td>\n",
       "      <td>SF_SE</td>\n",
       "      <td>0.992955</td>\n",
       "      <td>1</td>\n",
       "    </tr>\n",
       "    <tr>\n",
       "      <th>0</th>\n",
       "      <td>0.2</td>\n",
       "      <td>LR_SW</td>\n",
       "      <td>0.270368</td>\n",
       "      <td>1</td>\n",
       "    </tr>\n",
       "    <tr>\n",
       "      <th>1</th>\n",
       "      <td>0.2</td>\n",
       "      <td>SF_SW</td>\n",
       "      <td>0.201172</td>\n",
       "      <td>1</td>\n",
       "    </tr>\n",
       "    <tr>\n",
       "      <th>7</th>\n",
       "      <td>0.4</td>\n",
       "      <td>LR_SW</td>\n",
       "      <td>0.329799</td>\n",
       "      <td>1</td>\n",
       "    </tr>\n",
       "    <tr>\n",
       "      <th>8</th>\n",
       "      <td>0.4</td>\n",
       "      <td>SF_SW</td>\n",
       "      <td>0.291853</td>\n",
       "      <td>1</td>\n",
       "    </tr>\n",
       "    <tr>\n",
       "      <th>14</th>\n",
       "      <td>0.6</td>\n",
       "      <td>LR_SW</td>\n",
       "      <td>0.443917</td>\n",
       "      <td>1</td>\n",
       "    </tr>\n",
       "    <tr>\n",
       "      <th>15</th>\n",
       "      <td>0.6</td>\n",
       "      <td>SF_SW</td>\n",
       "      <td>0.441406</td>\n",
       "      <td>1</td>\n",
       "    </tr>\n",
       "    <tr>\n",
       "      <th>21</th>\n",
       "      <td>0.8</td>\n",
       "      <td>LR_SW</td>\n",
       "      <td>0.557199</td>\n",
       "      <td>1</td>\n",
       "    </tr>\n",
       "    <tr>\n",
       "      <th>22</th>\n",
       "      <td>0.8</td>\n",
       "      <td>SF_SW</td>\n",
       "      <td>0.551060</td>\n",
       "      <td>1</td>\n",
       "    </tr>\n",
       "    <tr>\n",
       "      <th>28</th>\n",
       "      <td>1.0</td>\n",
       "      <td>LR_SW</td>\n",
       "      <td>0.901925</td>\n",
       "      <td>1</td>\n",
       "    </tr>\n",
       "    <tr>\n",
       "      <th>29</th>\n",
       "      <td>1.0</td>\n",
       "      <td>SF_SW</td>\n",
       "      <td>0.950056</td>\n",
       "      <td>1</td>\n",
       "    </tr>\n",
       "  </tbody>\n",
       "</table>\n",
       "</div>"
      ]
     },
     "metadata": {},
     "output_type": "execute_result"
    }
   ],
   "source": [
    "test"
   ]
  },
  {
   "cell_type": "code",
   "execution_count": 785,
   "metadata": {
    "collapsed": true
   },
   "outputs": [],
   "source": []
  },
  {
   "cell_type": "code",
   "execution_count": 787,
   "metadata": {
    "collapsed": true
   },
   "outputs": [],
   "source": []
  },
  {
   "cell_type": "code",
   "execution_count": 850,
   "metadata": {
    "collapsed": true
   },
   "outputs": [],
   "source": []
  },
  {
   "cell_type": "code",
   "execution_count": 843,
   "metadata": {
    "collapsed": true
   },
   "outputs": [],
   "source": []
  },
  {
   "cell_type": "code",
   "execution_count": null,
   "metadata": {
    "collapsed": true
   },
   "outputs": [],
   "source": []
  }
 ],
 "metadata": {
  "kernelspec": {
   "display_name": "Python 2",
   "language": "python",
   "name": "python2"
  },
  "language_info": {
   "codemirror_mode": {
    "name": "ipython",
    "version": 2
   },
   "file_extension": ".py",
   "mimetype": "text/x-python",
   "name": "python",
   "nbconvert_exporter": "python",
   "pygments_lexer": "ipython2",
   "version": "2.7.13"
  }
 },
 "nbformat": 4,
 "nbformat_minor": 0
}
