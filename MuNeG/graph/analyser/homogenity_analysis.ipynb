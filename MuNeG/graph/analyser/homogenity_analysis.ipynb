{
 "cells": [
  {
   "cell_type": "code",
   "execution_count": 2,
   "metadata": {},
   "outputs": [],
   "source": [
    "import seaborn as sns\n",
    "import csv\n",
    "import pandas as pd\n",
    "import matplotlib.pyplot as plt"
   ]
  },
  {
   "cell_type": "code",
   "execution_count": 70,
   "metadata": {},
   "outputs": [],
   "source": [
    "#synthetic data\n",
    "frame = pd.DataFrame()\n",
    "frame = pd.read_csv('D:\\\\pycharm_workspace\\\\multiplex\\\\MuNeG\\\\results\\\\synthetic\\\\lustre_results\\\\combined_synthetic_homogenity_with_density.csv',index_col=None, header=0)\n",
    "nrOfLayers = 5"
   ]
  },
  {
   "cell_type": "code",
   "execution_count": 13,
   "metadata": {},
   "outputs": [],
   "source": [
    "#real data\n",
    "frame = pd.DataFrame()\n",
    "frame = pd.read_csv('D:\\\\pycharm_workspace\\\\multiplex\\\\MuNeG\\\\results\\\\real\\\\lustre_results\\\\combined_real_homogenity.csv',index_col=None, header=0)\n",
    "nrOfLayers = 5\n",
    "frame = frame.groupby([\"homogenity\",\"rep\"], as_index=False).mean()"
   ]
  },
  {
   "cell_type": "code",
   "execution_count": 25,
   "metadata": {},
   "outputs": [],
   "source": [
    ""
   ]
  },
  {
   "cell_type": "code",
   "execution_count": 4,
   "metadata": {},
   "outputs": [],
   "source": [
    "\"\""
   ]
  },
  {
   "cell_type": "code",
   "execution_count": 39,
   "metadata": {},
   "outputs": [
    {
     "data": {
      "text/plain": [
       "''"
      ]
     },
     "execution_count": 39,
     "output_type": "execute_result",
     "metadata": {}
    }
   ],
   "source": [
    "\"\""
   ]
  },
  {
   "cell_type": "code",
   "execution_count": 71,
   "metadata": {},
   "outputs": [],
   "source": [
    "frame['fold'] = frame['fold'].map({0:0, 2: 50, 3: 66, 4:75, 5:80, 10:90, 20:95})\n",
    "frame = frame.drop(frame[frame.fold == 66].index)\n",
    "frame = frame.drop(frame[frame.fold == 75].index)\n",
    "frame = frame.drop(frame[frame.fold == 80].index)\n",
    "frame = frame.drop(frame[frame.fold == 90].index)\n",
    "frame = frame.drop(frame[frame.fold == 95].index)\n",
    "old_frame = frame\n",
    "frame = pd.melt(frame, id_vars=['homogenity', 'rep', 'density'],value_vars=[\"LR\",\"SF\",\"MF\",\"LF\",\"RF\",\"SCF\",\"FCF\"])\n",
    "\n",
    "frame[\"variable\"] = pd.Categorical(frame['variable'], [\"LR\", \"SF\", \"MF\", \"LF\", \"RF\", \"SCF\", \"FCF\"])"
   ]
  },
  {
   "cell_type": "code",
   "execution_count": 72,
   "metadata": {},
   "outputs": [],
   "source": [
    "mask = frame.homogenity <= 0.2\n",
    "column_name = 'homogenity'\n",
    "frame.loc[mask, column_name] = \"0.2\"\n",
    "\n",
    "mask = frame.homogenity <= 0.4\n",
    "column_name = 'homogenity'\n",
    "frame.loc[mask, column_name] = \"0.4\"\n",
    "\n",
    "mask = frame.homogenity <= 0.6\n",
    "column_name = 'homogenity'\n",
    "frame.loc[mask, column_name] = \"0.6\"\n",
    "\n",
    "mask = frame.homogenity <= 0.8\n",
    "column_name = 'homogenity'\n",
    "frame.loc[mask, column_name] = \"0.8\"\n",
    "\n",
    "mask = frame.homogenity <= 1.0\n",
    "column_name = 'homogenity'\n",
    "frame.loc[mask, column_name] = \"1.0\"\n",
    "\n",
    "frame = frame.sort_values(by=[\"variable\",\"homogenity\"])"
   ]
  },
  {
   "cell_type": "code",
   "execution_count": 73,
   "metadata": {},
   "outputs": [],
   "source": [
    "sns.set(font='monospace', palette=\"deep\", style='whitegrid')"
   ]
  },
  {
   "cell_type": "code",
   "execution_count": 64,
   "metadata": {},
   "outputs": [],
   "source": [
    "fig, ax = plt.subplots()"
   ]
  },
  {
   "cell_type": "code",
   "execution_count": 54,
   "metadata": {},
   "outputs": [],
   "source": [
    "bx = sns.boxplot(x=\"homogenity\", y=\"value\", hue=\"variable\", data=frame, ax=ax)\n",
    "axes = bx.axes"
   ]
  },
  {
   "cell_type": "code",
   "execution_count": 74,
   "metadata": {},
   "outputs": [],
   "source": [
    "mask = old_frame.homogenity <= 0.2\n",
    "column_name = 'homogenity'\n",
    "old_frame.loc[mask, column_name] = \"0.2\"\n",
    "\n",
    "mask = old_frame.homogenity <= 0.4\n",
    "column_name = 'homogenity'\n",
    "old_frame.loc[mask, column_name] = \"0.4\"\n",
    "\n",
    "mask = old_frame.homogenity <= 0.6\n",
    "column_name = 'homogenity'\n",
    "old_frame.loc[mask, column_name] = \"0.6\"\n",
    "\n",
    "mask = old_frame.homogenity <= 0.8\n",
    "column_name = 'homogenity'\n",
    "old_frame.loc[mask, column_name] = \"0.8\"\n",
    "\n",
    "mask = old_frame.homogenity <= 1.0\n",
    "column_name = 'homogenity'\n",
    "old_frame.loc[mask, column_name] = \"1.0\"\n",
    "\n",
    "old_frame = old_frame.sort_values(by=[\"density\",\"homogenity\"])"
   ]
  },
  {
   "cell_type": "code",
   "execution_count": 75,
   "metadata": {},
   "outputs": [],
   "source": [
    "old_frame = pd.melt(old_frame, id_vars=['homogenity', 'rep', 'density'],value_vars=[\"LR\",\"SF\",\"MF\",\"LF\",\"RF\",\"SCF\",\"FCF\"])\n",
    "old_frame = old_frame.groupby(by=[\"homogenity\",\"variable\", \"rep\"], as_index=False).mean()\n",
    "ts = sns.tsplot(data=old_frame, time=\"homogenity\", unit=\"rep\", value=\"density\", condition=\"variable\", ax=ax)"
   ]
  },
  {
   "cell_type": "code",
   "execution_count": 76,
   "metadata": {},
   "outputs": [
    {
     "data": {
      "text/plain": [
       "<matplotlib.text.Text at 0x238e63c8>"
      ]
     },
     "execution_count": 76,
     "output_type": "execute_result",
     "metadata": {}
    }
   ],
   "source": [
    "plt.title('AuC classification results for 90% of known nodes')\n",
    "plt.xlabel('Homogenity')\n",
    "plt.ylabel('Area under ROC-Curve for different homogenity')"
   ]
  },
  {
   "cell_type": "code",
   "execution_count": 69,
   "metadata": {},
   "outputs": [],
   "source": [
    ""
   ]
  },
  {
   "cell_type": "code",
   "execution_count": 77,
   "metadata": {},
   "outputs": [],
   "source": [
    "plt.show()"
   ]
  },
  {
   "cell_type": "code",
   "execution_count": 78,
   "metadata": {},
   "outputs": [
    {
     "name": "stdout",
     "output_type": "stream",
     "text": [
      "    homogenity variable  rep   density     value\n0          0.2      FCF   21  0.542090  0.489130\n1          0.2      FCF   22  0.542833  0.500000\n2          0.2      FCF   23  0.542333  0.500000\n3          0.2      FCF   24  0.542333  0.500000\n4          0.2      FCF   25  0.542333  0.484927\n5          0.2      FCF   26  0.542333  0.493684\n6          0.2      FCF   27  0.542333  0.500000\n7          0.2      FCF   28  0.542333  0.479272\n8          0.2      FCF   29  0.542090  0.500000\n9          0.2      FCF   30  0.542090  0.489130\n10         0.2      FCF   31  0.542333  0.483232\n11         0.2      FCF   32  0.542333  0.500000\n12         0.2      FCF   33  0.542333  0.494617\n13         0.2      FCF   34  0.542090  0.501519\n14         0.2      FCF   35  0.542333  0.483920\n15         0.2      FCF   36  0.542333  0.490741\n16         0.2      FCF   37  0.542090  0.500000\n17         0.2      FCF   38  0.542333  0.500000\n18         0.2      FCF   39  0.542333  0.494042\n19         0.2      FCF   40  0.542333  0.500000\n20         0.2       LF   21  0.542090  0.489728\n21         0.2       LF   22  0.542833  0.500000\n22         0.2       LF   23  0.542333  0.486003\n23         0.2       LF   24  0.542333  0.501192\n24         0.2       LF   25  0.542333  0.475739\n25         0.2       LF   26  0.542333  0.484424\n26         0.2       LF   27  0.542333  0.500000\n27         0.2       LF   28  0.542333  0.490023\n28         0.2       LF   29  0.542090  0.469980\n29         0.2       LF   30  0.542090  0.472222\n..         ...      ...  ...       ...       ...\n670        1.0      SCF   31  0.548253  0.511349\n671        1.0      SCF   32  0.547818  0.513378\n672        1.0      SCF   33  0.547818  0.502980\n673        1.0      SCF   34  0.548286  0.518738\n674        1.0      SCF   35  0.547818  0.504146\n675        1.0      SCF   36  0.548286  0.501225\n676        1.0      SCF   37  0.548590  0.508965\n677        1.0      SCF   38  0.547818  0.508923\n678        1.0      SCF   39  0.548286  0.505559\n679        1.0      SCF   40  0.548286  0.515251\n680        1.0       SF   21  0.548286  0.542723\n681        1.0       SF   22  0.548754  0.552854\n682        1.0       SF   23  0.548286  0.524347\n683        1.0       SF   24  0.548286  0.530939\n684        1.0       SF   25  0.547818  0.529241\n685        1.0       SF   26  0.548590  0.534925\n686        1.0       SF   27  0.548754  0.559290\n687        1.0       SF   28  0.548286  0.531949\n688        1.0       SF   29  0.547818  0.527132\n689        1.0       SF   30  0.548590  0.578346\n690        1.0       SF   31  0.548253  0.583345\n691        1.0       SF   32  0.547818  0.576754\n692        1.0       SF   33  0.547818  0.525236\n693        1.0       SF   34  0.548286  0.534160\n694        1.0       SF   35  0.547818  0.508451\n695        1.0       SF   36  0.548286  0.540471\n696        1.0       SF   37  0.548590  0.576907\n697        1.0       SF   38  0.547818  0.563799\n698        1.0       SF   39  0.548286  0.545207\n699        1.0       SF   40  0.548286  0.568758\n\n[700 rows x 5 columns]\n"
     ]
    }
   ],
   "source": [
    "print old_frame"
   ]
  },
  {
   "cell_type": "code",
   "execution_count": 23,
   "metadata": {},
   "outputs": [],
   "source": [
    "old_frame"
   ]
  },
  {
   "cell_type": "code",
   "execution_count": null,
   "metadata": {},
   "outputs": [],
   "source": [
    "frame"
   ]
  },
  {
   "cell_type": "code",
   "execution_count": 44,
   "metadata": {},
   "outputs": [],
   "source": [
    "frame"
   ]
  },
  {
   "cell_type": "code",
   "execution_count": 45,
   "metadata": {},
   "outputs": [],
   "source": [
    ""
   ]
  },
  {
   "cell_type": "code",
   "execution_count": 114,
   "metadata": {},
   "outputs": [
    {
     "data": {
      "text/html": [
       "<div>\n",
       "<table border=\"1\" class=\"dataframe\">\n",
       "  <thead>\n",
       "    <tr style=\"text-align: right;\">\n",
       "      <th></th>\n",
       "      <th>rep</th>\n",
       "      <th>value</th>\n",
       "    </tr>\n",
       "    <tr>\n",
       "      <th>homogenity</th>\n",
       "      <th></th>\n",
       "      <th></th>\n",
       "    </tr>\n",
       "  </thead>\n",
       "  <tbody>\n",
       "    <tr>\n",
       "      <th>&lt;=0.2</th>\n",
       "      <td>6.639241</td>\n",
       "      <td>0.863146</td>\n",
       "    </tr>\n",
       "    <tr>\n",
       "      <th>&lt;=0.4</th>\n",
       "      <td>6.924691</td>\n",
       "      <td>0.878538</td>\n",
       "    </tr>\n",
       "    <tr>\n",
       "      <th>&lt;=0.6</th>\n",
       "      <td>6.830882</td>\n",
       "      <td>0.908089</td>\n",
       "    </tr>\n",
       "    <tr>\n",
       "      <th>&lt;=0.8</th>\n",
       "      <td>7.319820</td>\n",
       "      <td>0.941412</td>\n",
       "    </tr>\n",
       "    <tr>\n",
       "      <th>&lt;=1.0</th>\n",
       "      <td>8.068285</td>\n",
       "      <td>0.977370</td>\n",
       "    </tr>\n",
       "  </tbody>\n",
       "</table>\n",
       "</div>"
      ]
     },
     "output_type": "execute_result",
     "metadata": {}
    }
   ],
   "source": [
    ""
   ]
  },
  {
   "cell_type": "code",
   "execution_count": null,
   "metadata": {},
   "outputs": [],
   "source": [
    ""
   ]
  }
 ],
 "metadata": {},
 "nbformat": 4,
 "nbformat_minor": 0
}