{
 "cells": [
  {
   "cell_type": "code",
   "execution_count": 2,
   "metadata": {},
   "outputs": [],
   "source": [
    "import numpy\n",
    "import matplotlib.pyplot as plt\n",
    "import matplotlib\n",
    "import sys\n",
    "import numpy as np\n",
    "sys.path.append('D:\\pycharm_workspace\\multiplex\\MuNeG')\n",
    "import graph.analyser.StatisticalAnalysis as sa"
   ]
  },
  {
   "cell_type": "code",
   "execution_count": 3,
   "metadata": {},
   "outputs": [],
   "source": [
    "#Synthetic - fusion_sum_baseline\n",
    "cursor = sa.connect_to_data(\"156.17.131.228\", \"DanioRerio\", \"apopiel\", \"alamakota123\")\n",
    "cursor.execute('SELECT real_homogenity, avg(fusion_sum), avg(real_homogenity) FROM [DanioRerio].[muneg].[results_df] group by real_homogenity order by real_homogenity')\n",
    "results = cursor.fetchall()"
   ]
  },
  {
   "cell_type": "code",
   "execution_count": 4,
   "metadata": {},
   "outputs": [],
   "source": [
    "#Synthetic - fusion_sum_baseline\n",
    "cursor = sa.connect_to_data(\"156.17.131.228\", \"DanioRerio\", \"apopiel\", \"alamakota123\")\n",
    "cursor.execute('SELECT homogenity, avg(reduction), avg(fusion_sum), avg(real_homogenity) FROM [DanioRerio].muneg.[results_df] group by homogenity order by homogenity')\n",
    "results = cursor.fetchall()"
   ]
  },
  {
   "cell_type": "code",
   "execution_count": 156,
   "metadata": {},
   "outputs": [],
   "source": [
    "#Synthetic - fusion_sum_real_homogenity\n",
    "cursor = sa.connect_to_data(\"156.17.131.228\", \"DanioRerio\", \"apopiel\", \"alamakota123\")\n",
    "cursor.execute('SELECT fun_qty, avg(reduction), avg(fusion_sum), avg(real_homogenity) FROM [DanioRerio].daniorerio.[results_df] group by fun_qty order by fun_qty')\n",
    "results = cursor.fetchall()"
   ]
  },
  {
   "cell_type": "code",
   "execution_count": 17,
   "metadata": {},
   "outputs": [],
   "source": [
    "#DanioRerio - fusion_mean_baseline\n",
    "cursor = sa.connect_to_data(\"156.17.131.228\", \"DanioRerio\", \"apopiel\", \"alamakota123\")\n",
    "cursor.execute('SELECT real_homogenity, avg(reduction), avg(fusion_mean), avg(baseline) FROM [DanioRerio].daniorerio.[results_df] group by real_homogenity order by real_homogenity')\n",
    "results = cursor.fetchall()"
   ]
  },
  {
   "cell_type": "code",
   "execution_count": 214,
   "metadata": {},
   "outputs": [],
   "source": [
    "#DanioRerio - fusion_mean_real)homogenity\n",
    "cursor = sa.connect_to_data(\"156.17.131.228\", \"DanioRerio\", \"apopiel\", \"alamakota123\")\n",
    "cursor.execute('SELECT real_homogenity, avg(reduction), avg(fusion_mean), avg(real_homogenity) FROM [DanioRerio].daniorerio.[results_df] group by real_homogenity order by real_homogenity')\n",
    "results = cursor.fetchall()"
   ]
  },
  {
   "cell_type": "code",
   "execution_count": 12,
   "metadata": {},
   "outputs": [],
   "source": [
    "real_homogenity = [row[0] for row in results]\n",
    "fusion_sum = [row[1] for row in results]\n",
    "baseline = [row[2] for row in results]"
   ]
  },
  {
   "cell_type": "code",
   "execution_count": 5,
   "metadata": {},
   "outputs": [],
   "source": [
    "homogenity = [row[0] for row in results]\n",
    "x = [e * 0.1 for e in homogenity]"
   ]
  },
  {
   "cell_type": "code",
   "execution_count": 18,
   "metadata": {},
   "outputs": [],
   "source": [
    "real_homogenity = [row[0] for row in results]\n",
    "x = range(len(real_homogenity))"
   ]
  },
  {
   "cell_type": "code",
   "execution_count": 19,
   "metadata": {},
   "outputs": [],
   "source": [
    "reduction = [row[1] for row in results]\n",
    "fusion_sum = [row[2] for row in results]\n",
    "baseline = [row[3] for row in results]"
   ]
  },
  {
   "cell_type": "code",
   "execution_count": null,
   "metadata": {},
   "outputs": [],
   "source": [
    ""
   ]
  },
  {
   "cell_type": "code",
   "execution_count": 20,
   "metadata": {},
   "outputs": [
    {
     "name": "stdout",
     "output_type": "stream",
     "text": [
      "[0, 1, 2, 3, 4, 5, 6, 7, 8, 9, 10, 11, 12, 13, 14, 15, 16, 17, 18, 19, 20, 21, 22, 23, 24, 25, 26, 27, 28, 29, 30, 31, 32, 33, 34, 35, 36, 37, 38, 39, 40, 41, 42, 43, 44, 45, 46, 47, 48, 49, 50, 51, 52, 53, 54, 55, 56, 57]\n[0.9720430076122284, 0.9768817126750946, 0.9806451499462128, 0.9535483956336975, 0.9935483932495117, 0.9870967864990234, 0.948387086391449, 0.9913978576660156, 0.9526881575584412, 0.9935483932495117, 0.9225806593894958, 0.9935483932495117, 0.9887096881866455, 0.9290322661399841, 0.9870967864990234, 0.9913978576660156, 0.85161292552948, 0.9870967864990234, 0.9354838728904724, 0.9870967864990234, 0.9903225898742676, 0.9935483932495117, 0.9870967864990234, 0.9935483932495117, 0.9612902998924255, 0.9627240178761659, 0.9935483932495117, 0.9870967745780945, 0.9870967864990234, 0.9806451797485352, 0.9913978576660156, 0.9898617608206612, 0.8795698914262984, 0.9935483932495117, 0.9786600608092088, 0.9817204376061758, 0.9870967864990234, 0.9889400941984994, 0.9935483932495117, 0.9885304735766517, 0.9935483932495117, 0.9806451797485352, 0.9767742037773133, 0.9836693610996008, 0.9873900332234122, 0.9735483924547831, 0.9129032492637634, 0.9935483932495117, 0.9903225898742676, 0.9935483932495117, 0.9935483932495117, 0.874193549156189, 0.9935483932495117, 0.9849163740873337, 0.9795254698798019, 0.9935483932495117, 0.9935483932495117, 0.9935483932495117]\n"
     ]
    }
   ],
   "source": [
    "print x\n",
    "print fusion_sum\n",
    "above_threshold = [np.maximum(fusion_sum[e] - baseline[e], 0) for e in xrange(0, len(reduction))]\n",
    "below_threshold = [np.minimum(fusion_sum[e], baseline[e]) for e in xrange(0, len(reduction))]"
   ]
  },
  {
   "cell_type": "code",
   "execution_count": 21,
   "metadata": {},
   "outputs": [],
   "source": [
    "fig, ax = plt.subplots()\n",
    "belows = ax.bar(x, below_threshold, 0.035, color=\"r\")\n",
    "aboves = ax.bar(x, above_threshold, 0.035, color=\"g\",\n",
    "        bottom=below_threshold)\n",
    "for e in xrange(0, len(baseline)):\n",
    "    if above_threshold[e] == 0:\n",
    "        line = ax.plot([x[e], x[e]+0.035], [baseline[e], baseline[e]], \"k\")"
   ]
  },
  {
   "cell_type": "code",
   "execution_count": 14,
   "metadata": {},
   "outputs": [],
   "source": [
    "crashes = sb.load_dataset(\"car_crashes\").sort_values(\"total\", ascending=False)\n",
    "from pandas.core.frame import DataFrame\n",
    "res_dict = []\n",
    "res_dict.append((\"below\", below_threshold))\n",
    "res_dict.append((\"fusion_sum\", fusion_sum))\n",
    "res_dict.append((\"homogenity\", x))\n",
    "\n",
    "print res_dict\n",
    "index = ['Fusion_val']\n",
    "df =  DataFrame.from_items(res_dict)\n",
    "print df\n",
    "\n",
    "f, ax = plt.subplots(figsize=(6, 15))\n",
    "sb.set_color_codes(\"muted\")\n",
    "sb.barplot(x=\"homogenity\", y=\"fusion_sum\", data=df, color=\"g\")\n",
    "sb.barplot(x=\"homogenity\", y=\"below\", data=df, color=\"r\")\n",
    "\n",
    "ax.plot([-0.4, 0.4], [baseline[0], baseline[0]], \"k\")\n",
    "ax.plot([0.6, 1.4], [baseline[1], baseline[1]], \"k\")\n",
    "ax.plot([1.6, 2.4], [baseline[2], baseline[2]], \"k\")\n",
    "ax.plot([2.6, 3.4], [baseline[3], baseline[3]], \"k\")\n",
    "ax.plot([3.6, 4.4], [baseline[4], baseline[4]], \"k\")\n",
    "ax.plot([4.6, 5.4], [baseline[5], baseline[5]], \"k\")\n",
    "ax.plot([5.6, 6.4], [baseline[6], baseline[6]], \"k\")\n",
    "ax.plot([6.6, 7.4], [baseline[7], baseline[7]], \"k\")\n",
    "ax.plot([7.6, 8.4], [baseline[8], baseline[8]], \"k\")\n",
    "ax.plot([8.6, 9.4], [baseline[9], baseline[9]], \"k\")\n",
    "line = ax.plot([9.6, 10.4], [baseline[10], baseline[10]], \"k\")"
   ]
  },
  {
   "cell_type": "code",
   "execution_count": 29,
   "metadata": {},
   "outputs": [],
   "source": [
    "crashes = sb.load_dataset(\"car_crashes\").sort_values(\"total\", ascending=False)\n",
    "from pandas.core.frame import DataFrame\n",
    "res_dict = []\n",
    "res_dict.append((\"below\", below_threshold))\n",
    "res_dict.append((\"fusion_sum\", fusion_sum))\n",
    "res_dict.append((\"homogenity\", x))\n",
    "\n",
    "print res_dict\n",
    "index = ['Fusion_val']\n",
    "df =  DataFrame.from_items(res_dict)\n",
    "print df\n",
    "\n",
    "f, ax = plt.subplots(figsize=(6, 15))\n",
    "sb.set_color_codes(\"muted\")\n",
    "sb.barplot(x=\"homogenity\", y=\"fusion_sum\", data=df, color=\"g\")\n",
    "sb.barplot(x=\"homogenity\", y=\"below\", data=df, color=\"r\")\n",
    "\n",
    "for i in xrange(0, len(baseline)):\n",
    "    line = ax.plot([-0.4+(i), 0.4+(i*1)], [baseline[i], baseline[i]], \"k\")"
   ]
  },
  {
   "cell_type": "code",
   "execution_count": 101,
   "metadata": {},
   "outputs": [],
   "source": [
    "fig, ax = plt.subplots()\n",
    "belows = ax.bar(x, below_threshold, 0.35, color=\"r\")\n",
    "aboves = ax.bar(x, above_threshold, 0.35, color=\"g\",\n",
    "        bottom=below_threshold)\n",
    "for e in xrange(0, len(baseline)):\n",
    "    if above_threshold[e] == 0:\n",
    "        line = ax.plot([x[e], x[e]+0.35], [baseline[e], baseline[e]], \"k\")"
   ]
  },
  {
   "cell_type": "code",
   "execution_count": 10,
   "metadata": {},
   "outputs": [
    {
     "data": {
      "text/plain": [
       "<matplotlib.legend.Legend at 0x2037ffd0>"
      ]
     },
     "execution_count": 10,
     "output_type": "execute_result",
     "metadata": {}
    }
   ],
   "source": [
    "ax.set_xticklabels(x, fontsize=14)\n",
    "ax.set_ylabel('F1-Score',fontsize=20, fontweight='bold')\n",
    "ax.set_xlabel('Generation homophily[%]',fontsize=20, fontweight='bold')\n",
    "ax.set_title('Fusion sum compared to F1-Baseline',fontsize=20, fontweight='bold')\n",
    "line[0].set_label('Baseline')\n",
    "\n",
    "for tick in ax.yaxis.get_major_ticks():\n",
    "                tick.label.set_fontsize(14)\n",
    "ax.legend(fontsize=14)"
   ]
  },
  {
   "cell_type": "code",
   "execution_count": 15,
   "metadata": {},
   "outputs": [
    {
     "data": {
      "text/plain": [
       "<matplotlib.legend.Legend at 0x20537d30>"
      ]
     },
     "execution_count": 15,
     "output_type": "execute_result",
     "metadata": {}
    }
   ],
   "source": [
    "ax.set_xticklabels(x, fontsize=14)\n",
    "ax.set_ylabel('F1-Score',fontsize=20, fontweight='bold')\n",
    "ax.set_xlabel('Generation homophily[%]',fontsize=20, fontweight='bold')\n",
    "ax.set_title('Fusion sum compared to real baseline',fontsize=20, fontweight='bold')\n",
    "line[0].set_label('Baseline')\n",
    "\n",
    "for tick in ax.yaxis.get_major_ticks():\n",
    "                tick.label.set_fontsize(14)\n",
    "ax.legend(fontsize=14)"
   ]
  },
  {
   "cell_type": "code",
   "execution_count": 219,
   "metadata": {},
   "outputs": [
    {
     "data": {
      "text/plain": [
       "<matplotlib.text.Text at 0x47a7f7f0>"
      ]
     },
     "execution_count": 219,
     "output_type": "execute_result",
     "metadata": {}
    }
   ],
   "source": [
    "ax.set_ylabel('F1-Score')\n",
    "ax.set_xlabel('Real homophilly')\n",
    "ind = np.arange(len(real_homogenity))\n",
    "ax.set_xticks(ind + 0.3)\n",
    "ax.set_xticklabels([round(r,2) for r in real_homogenity])\n",
    "xticks = ax.xaxis.get_major_ticks()\n",
    "for i in xrange(0, len(xticks)):\n",
    "    if i % 5 == 0:\n",
    "        xticks[i].label1.set_visible(True)\n",
    "    else:\n",
    "        xticks[i].label1.set_visible(False)\n",
    "ax.set_title('Fusion mean compared to F1-Baseline')"
   ]
  },
  {
   "cell_type": "code",
   "execution_count": 222,
   "metadata": {},
   "outputs": [
    {
     "data": {
      "text/plain": [
       "<matplotlib.text.Text at 0x49117cc0>"
      ]
     },
     "execution_count": 222,
     "output_type": "execute_result",
     "metadata": {}
    }
   ],
   "source": [
    "ax.set_ylabel('F1-Score')\n",
    "ax.set_xlabel('Real homophilly')\n",
    "ind = np.arange(len(real_homogenity))\n",
    "ax.set_xticks(ind + 0.3)\n",
    "ax.set_xticklabels([round(r,2) for r in real_homogenity])\n",
    "xticks = ax.xaxis.get_major_ticks()\n",
    "for i in xrange(0, len(xticks)):\n",
    "    if i % 5 == 0:\n",
    "        xticks[i].label1.set_visible(True)\n",
    "    else:\n",
    "        xticks[i].label1.set_visible(False)\n",
    "ax.set_title('Fusion mean compared to real homophilly')"
   ]
  },
  {
   "cell_type": "code",
   "execution_count": 30,
   "metadata": {},
   "outputs": [],
   "source": [
    "plt.show()"
   ]
  },
  {
   "cell_type": "code",
   "execution_count": 2,
   "metadata": {},
   "outputs": [],
   "source": [
    "#Real - comparison\n",
    "cursor = sa.connect_to_data(\"156.17.131.228\", \"DanioRerio\", \"apopiel\", \"alamakota123\")\n",
    "cursor.execute('SELECT avg(reduction), avg(fusion_sum), avg(fusion_mean), avg(fusion_layer), avg(fusion_random), avg(fusion_conv_max), avg(fusion_conv_min) FROM [DanioRerio].daniorerio.[results_df]')\n",
    "results = cursor.fetchall()"
   ]
  },
  {
   "cell_type": "code",
   "execution_count": 19,
   "metadata": {},
   "outputs": [],
   "source": [
    "#Synthetic - comparison\n",
    "cursor = sa.connect_to_data(\"156.17.131.228\", \"DanioRerio\", \"apopiel\", \"alamakota123\")\n",
    "cursor.execute('SELECT avg(reduction), avg(fusion_sum), avg(fusion_mean), avg(fusion_layer), avg(fusion_random), avg(fusion_conv_max), avg(fusion_conv_min) FROM [DanioRerio].muneg.[results_df]')\n",
    "results = cursor.fetchall()"
   ]
  },
  {
   "cell_type": "code",
   "execution_count": 3,
   "metadata": {},
   "outputs": [],
   "source": [
    "reduction = results[0] \n",
    "fusion_sum = results[1]\n",
    "fusion_mean = results[2]\n",
    "fusion_layer = results[3]\n",
    "fusion_random = results[4]\n",
    "fusion_conv_max = results[5]\n",
    "fusion_conv_min = results[6]\n",
    "res = results[0]\n",
    "x = range(len(res))"
   ]
  },
  {
   "cell_type": "code",
   "execution_count": 8,
   "metadata": {},
   "outputs": [],
   "source": [
    "from pandas.core.frame import DataFrame\n",
    "\n",
    "res_dict = {\"Reduction\" : res[0], 'Fusion sum' : res[1], 'Fusion mean' : res[2], 'Fusion layer' : res[3], 'Fusion random' : res[4], 'Fusion max conv.': res[5], 'Fusion min conv.':res[6]}\n",
    "i = 0\n",
    "index = ['Methods']\n",
    "order = ['Reduction', 'Fusion sum', 'Fusion mean', 'Fusion layer', 'Fusion random', 'Fusion max conv.', 'Fusion min conv.']\n",
    "df = DataFrame(data=res_dict, index=index)\n",
    "ax = sb.barplot(data=df, order=order)\n",
    "ax.set_ylim([0.90, 0.99])\n",
    "ax.set_xticklabels(order, fontsize=14)\n",
    "ax.set_ylabel('F1-Score', fontsize=20, fontweight='bold')\n",
    "ax.set_xlabel('Fusion type', fontsize=20, fontweight='bold')\n",
    "for tick in ax.yaxis.get_major_ticks():\n",
    "                tick.label.set_fontsize(14)\n",
    "childrenLS=ax.get_children()\n",
    "barlist=filter(lambda x: isinstance(x, matplotlib.patches.Rectangle), childrenLS)\n",
    "barlist[0].set_color('r')\n",
    "barlist[0].set_label('Reduction')\n",
    "heights = [b.get_height() for b in barlist]\n",
    "i =  heights.index(max(heights[0:len(heights)-1]))\n",
    "barlist[i].set_color('g')\n",
    "barlist[i].set_label('Best fusion')\n",
    "ax.legend(fontsize=14)\n",
    "plt.show()"
   ]
  },
  {
   "cell_type": "code",
   "execution_count": 7,
   "metadata": {},
   "outputs": [
    {
     "name": "stdout",
     "output_type": "stream",
     "text": [
      "8\n[0.9589037529538641, 0.9577235802402341, 0.9808353076620799, 0.9576864266985154, 0.9760359356679568, 0.9631086660594474, 0.979390688301102, 1.0]\n"
     ]
    }
   ],
   "source": [
    "fig, ax = plt.subplots()\n",
    "bars = ax.bar(x, res, 0.35, color=\"b\")\n",
    "labels = ['Reduction', 'Fusion sum', 'Fusion mean', 'Fusion layer', 'Fusion random', 'Fusion max conv.', 'Fusion min conv.']\n",
    "ax.set_ylim([0.90, 0.99])\n",
    "ax.set_xticklabels(labels)\n",
    "ax.set_ylabel('F1-Score')\n",
    "ax.set_xlabel('Fusion type')\n",
    "for (bar, label) in zip(bars, labels):\n",
    "    height = bar.get_height()\n",
    "    ax.text(bar.get_x() + bar.get_width()/2, height + 5, label, ha='center', va='bottom')\n",
    "childrenLS=ax.get_children()\n",
    "barlist=filter(lambda x: isinstance(x, matplotlib.patches.Rectangle), childrenLS)\n",
    "print len(barlist)\n",
    "barlist[0].set_color('r')\n",
    "barlist[0].set_label('Reduction')\n",
    "heights = [b.get_height() for b in barlist]\n",
    "i =  heights.index(max(heights[0:len(heights)-1]))\n",
    "print heights\n",
    "barlist[i].set_color('g')\n",
    "barlist[i].set_label('Best fusion')\n",
    "ax.legend()\n",
    "plt.show()"
   ]
  },
  {
   "cell_type": "code",
   "execution_count": 12,
   "metadata": {},
   "outputs": [],
   "source": [
    "import seaborn as sb"
   ]
  },
  {
   "cell_type": "code",
   "execution_count": 26,
   "metadata": {},
   "outputs": [],
   "source": [
    "cursor = sa.connect_to_data(\"156.17.131.228\", \"DanioRerio\", \"apopiel\", \"alamakota123\")\n",
    "cursor.execute('SELECT [Group_Name],[Fusion_Sum],[Real_Homogenity] FROM [DanioRerio].[muneg].[real_homogenity_groups] order by group_name')\n",
    "results = cursor.fetchall()"
   ]
  },
  {
   "cell_type": "code",
   "execution_count": 27,
   "metadata": {},
   "outputs": [],
   "source": [
    "group_name = [row[0] for row in results]\n",
    "fusion_sum = [row[1] for row in results]\n",
    "real_homogenity = [row[2] for row in results]"
   ]
  },
  {
   "cell_type": "code",
   "execution_count": 28,
   "metadata": {},
   "outputs": [],
   "source": [
    "above_threshold = [np.maximum(fusion_sum[e] - real_homogenity[e], 0) for e in xrange(0, len(real_homogenity))]\n",
    "below_threshold = [np.minimum(fusion_sum[e], real_homogenity[e]) for e in xrange(0, len(real_homogenity))]"
   ]
  },
  {
   "cell_type": "code",
   "execution_count": 44,
   "metadata": {},
   "outputs": [
    {
     "name": "stdout",
     "output_type": "stream",
     "text": [
      "[('below', [0.35053572058677673, 0.42797872424125671, 0.49426695704460144, 0.51559048891067505, 0.57107692956924438, 0.62263703346252441, 0.67315167188644409, 0.7225877046585083, 0.77441883087158203, 0.82183051109313965, 0.86746877431869507, 0.91443347930908203, 0.99932926893234253]), ('fusion_sum', [0.4063095152378082, 0.4363120496273041, 0.5439150333404541, 0.6206732392311096, 0.7092145681381226, 0.7493023872375488, 0.7896126508712769, 0.8170135617256165, 0.8571455478668213, 0.8876610398292542, 0.9196102023124695, 0.946946918964386, 0.9995751976966858]), ('groups', [u'Group < 0.4', u'Group < 0.45', u'Group < 0.5', u'Group < 0.55', u'Group < 0.6', u'Group < 0.65', u'Group < 0.7', u'Group < 0.75', u'Group < 0.8', u'Group < 0.85', u'Group < 0.9', u'Group < 0.95', u'Group < 1.0'])]\n       below  fusion_sum        groups\n0   0.350536    0.406310   Group < 0.4\n1   0.427979    0.436312  Group < 0.45\n2   0.494267    0.543915   Group < 0.5\n3   0.515590    0.620673  Group < 0.55\n4   0.571077    0.709215   Group < 0.6\n5   0.622637    0.749302  Group < 0.65\n6   0.673152    0.789613   Group < 0.7\n7   0.722588    0.817014  Group < 0.75\n8   0.774419    0.857146   Group < 0.8\n9   0.821831    0.887661  Group < 0.85\n10  0.867469    0.919610   Group < 0.9\n11  0.914433    0.946947  Group < 0.95\n12  0.999329    0.999575   Group < 1.0\n"
     ]
    }
   ],
   "source": [
    "crashes = sb.load_dataset(\"car_crashes\").sort_values(\"total\", ascending=False)\n",
    "from pandas.core.frame import DataFrame\n",
    "res_dict = []\n",
    "res_dict.append((\"below\", below_threshold))\n",
    "res_dict.append((\"fusion_sum\", fusion_sum))\n",
    "res_dict.append((\"groups\", group_name))\n",
    "\n",
    "print res_dict\n",
    "index = ['Fusion_val']\n",
    "df =  DataFrame.from_items(res_dict)\n",
    "print df\n",
    "\n",
    "f, ax = plt.subplots(figsize=(6, 15))\n",
    "sb.set_color_codes(\"muted\")\n",
    "sb.barplot(x=\"groups\", y=\"fusion_sum\", data=df, color=\"g\")\n",
    "sb.barplot(x=\"groups\", y=\"below\", data=df, color=\"r\")\n",
    "\n",
    "for i in xrange(0, len(real_homogenity)):\n",
    "    line = ax.plot([-0.4+(i), 0.4+(i*1)], [real_homogenity[i], real_homogenity[i]], \"k\")"
   ]
  },
  {
   "cell_type": "code",
   "execution_count": 43,
   "metadata": {},
   "outputs": [],
   "source": [
    "ax.set_xticklabels(group_name, fontsize=14)\n",
    "ax.set_ylabel('F1-Score',fontsize=20, fontweight='bold')\n",
    "ax.set_xlabel('Real homophily',fontsize=20, fontweight='bold')\n",
    "ax.set_title('Fusion sum compared to and depending on real homophilly',fontsize=20, fontweight='bold')\n",
    "line[0].set_label('Baseline')\n",
    "\n",
    "for tick in ax.yaxis.get_major_ticks():\n",
    "                tick.label.set_fontsize(14)\n",
    "ax.legend(fontsize=14, loc=0)\n",
    "plt.show()"
   ]
  },
  {
   "cell_type": "code",
   "execution_count": null,
   "metadata": {},
   "outputs": [],
   "source": [
    ""
   ]
  }
 ],
 "metadata": {},
 "nbformat": 4,
 "nbformat_minor": 0
}