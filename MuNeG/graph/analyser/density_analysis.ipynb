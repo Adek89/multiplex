{
 "cells": [
  {
   "cell_type": "code",
   "execution_count": 1,
   "metadata": {
    "collapsed": true
   },
   "outputs": [],
   "source": [
    "import seaborn as sns\n",
    "import csv\n",
    "import pandas as pd\n",
    "import matplotlib.pyplot as plt\n",
    "import numpy as np"
   ]
  },
  {
   "cell_type": "code",
   "execution_count": 22,
   "metadata": {
    "collapsed": true
   },
   "outputs": [],
   "source": [
    "#synthetic data\n",
    "frame = pd.DataFrame()\n",
    "frame = pd.read_csv('D:\\\\pycharm_workspace\\\\multiplex\\\\MuNeG\\\\results\\\\synthetic\\\\lustre_results\\\\combined_synthetic_density_with_homogenity.csv',index_col=None, header=0)\n",
    "nrOfLayers = 5"
   ]
  },
  {
   "cell_type": "code",
   "execution_count": 13,
   "metadata": {
    "collapsed": false
   },
   "outputs": [],
   "source": [
    "#real data\n",
    "frame = pd.DataFrame()\n",
    "frame = pd.read_csv('D:\\\\pycharm_workspace\\\\multiplex\\\\MuNeG\\\\results\\\\real_sw\\\\lustre_results\\\\combined_real_sw_density_with_homogenity.csv',index_col=None, header=0)\n",
    "nrOfLayers = 6"
   ]
  },
  {
   "cell_type": "code",
   "execution_count": 14,
   "metadata": {
    "collapsed": true
   },
   "outputs": [],
   "source": [
    "frame['fold'] = frame['fold'].map({0:0, 2: 50, 3: 66, 4:75, 5:80, 10:90, 20:95})\n",
    "frame = frame.drop(frame[frame.fold == 0].index)\n",
    "frame = frame.drop(frame[frame.fold == 66].index)\n",
    "frame = frame.drop(frame[frame.fold == 75].index)\n",
    "frame = frame.drop(frame[frame.fold == 80].index)\n",
    "frame = frame.drop(frame[frame.fold == 50].index)\n",
    "frame = frame.drop(frame[frame.fold == 95].index)\n",
    "\n",
    "old_frame = frame\n",
    "frame = pd.melt(frame, id_vars=['density', 'rep'],value_vars=[\"LR\",\"SF\",\"WL\",\"FG\",\"RF\",\"SCF\",\"FCF\"])\n",
    "\n",
    "\n",
    "frame[\"variable\"] = pd.Categorical(frame['variable'], [\"LR\", \"SF\", \"WL\", \"FG\", \"RF\", \"SCF\", \"FCF\"])"
   ]
  },
  {
   "cell_type": "code",
   "execution_count": 15,
   "metadata": {
    "collapsed": true
   },
   "outputs": [],
   "source": [
    "frame[\"density\"] = frame[\"density\"] / float(nrOfLayers)"
   ]
  },
  {
   "cell_type": "code",
   "execution_count": 16,
   "metadata": {
    "collapsed": false
   },
   "outputs": [],
   "source": [
    "\n",
    "mask = frame.density < 0.05\n",
    "column_name = 'density'\n",
    "frame.loc[mask, column_name] = \"[0.0 - 0.05]\"\n",
    "\n",
    "mask = frame.density < 0.1\n",
    "column_name = 'density'\n",
    "frame.loc[mask, column_name] = \"[0.05 - 0.1]\"\n",
    "\n",
    "mask = frame.density < 0.15\n",
    "column_name = 'density'\n",
    "frame.loc[mask, column_name] = \"[0.1 - 0.15]\"\n",
    "\n",
    "mask = frame.density < 0.2\n",
    "column_name = 'density'\n",
    "frame.loc[mask, column_name] = \"[0.15 - 0.2]\"\n",
    "\n",
    "mask = frame.density < 1.0\n",
    "column_name = 'density'\n",
    "frame.loc[mask, column_name] = \"[0.2 - 1.0]\"\n",
    "\n",
    "frame = frame.sort_values(by=[\"variable\",\"density\"])"
   ]
  },
  {
   "cell_type": "code",
   "execution_count": 17,
   "metadata": {
    "collapsed": true
   },
   "outputs": [],
   "source": [
    "sns.set(font='monospace', font_scale=2, palette=\"deep\", style='whitegrid')"
   ]
  },
  {
   "cell_type": "code",
   "execution_count": 18,
   "metadata": {
    "collapsed": true
   },
   "outputs": [],
   "source": [
    "frame.rename(columns = {'variable':'method'}, inplace = True)"
   ]
  },
  {
   "cell_type": "code",
   "execution_count": 28,
   "metadata": {
    "collapsed": true
   },
   "outputs": [],
   "source": [
    "fig, ax = plt.subplots()"
   ]
  },
  {
   "cell_type": "code",
   "execution_count": 19,
   "metadata": {
    "collapsed": false
   },
   "outputs": [],
   "source": [
    "ax = sns.boxplot(x=\"density\", y=\"value\", hue=\"method\", data=frame)"
   ]
  },
  {
   "cell_type": "code",
   "execution_count": 27,
   "metadata": {
    "collapsed": true
   },
   "outputs": [],
   "source": [
    "old_frame[\"density\"] = old_frame[\"density\"] / 5.0\n",
    "mask = old_frame.density <= 0.05\n",
    "column_name = 'density'\n",
    "old_frame.loc[mask, column_name] = \"0\"\n",
    "\n",
    "mask = old_frame.density <= 0.1\n",
    "column_name = 'density'\n",
    "old_frame.loc[mask, column_name] = \"1\"\n",
    "\n",
    "mask = old_frame.density <= 0.15\n",
    "column_name = 'density'\n",
    "old_frame.loc[mask, column_name] = \"2\"\n",
    "\n",
    "mask = old_frame.density <= 0.2\n",
    "column_name = 'density'\n",
    "old_frame.loc[mask, column_name] = \"3\"\n",
    "\n",
    "mask = old_frame.density <= 1.0\n",
    "column_name = 'density'\n",
    "old_frame.loc[mask, column_name] = \"4\"\n",
    "\n",
    "old_frame = old_frame.sort_values(by=[\"homogenity\",\"density\"])"
   ]
  },
  {
   "cell_type": "code",
   "execution_count": 54,
   "metadata": {
    "collapsed": true
   },
   "outputs": [],
   "source": [
    "old_frame = pd.melt(old_frame, id_vars=['density', 'rep', 'homogenity'],value_vars=[\"LR\",\"SF\",\"MF\",\"LF\",\"RF\",\"SCF\",\"FCF\"])\n",
    "old_frame = old_frame.groupby(by=[\"density\",\"variable\", \"rep\"], as_index=False).mean()\n",
    "ts = sns.tsplot(data=old_frame, time=\"density\", unit=\"rep\", value=\"homogenity\", condition=\"variable\", err_style=\"boot_traces\", n_boot=500, ax=ax)"
   ]
  },
  {
   "cell_type": "code",
   "execution_count": 20,
   "metadata": {
    "collapsed": false
   },
   "outputs": [
    {
     "data": {
      "text/plain": [
       "<matplotlib.text.Text at 0x17caaef0>"
      ]
     },
     "execution_count": 20,
     "metadata": {},
     "output_type": "execute_result"
    }
   ],
   "source": [
    "plt.title('AuC classification results for 90% of known nodes')\n",
    "plt.xlabel('Density')\n",
    "plt.ylabel('Area under ROC-Curve for different density')"
   ]
  },
  {
   "cell_type": "code",
   "execution_count": 11,
   "metadata": {
    "collapsed": false
   },
   "outputs": [
    {
     "data": {
      "text/plain": [
       "(0.4, 1.05)"
      ]
     },
     "execution_count": 11,
     "metadata": {},
     "output_type": "execute_result"
    }
   ],
   "source": [
    "ax.set_ylim(0.4,1.05)"
   ]
  },
  {
   "cell_type": "code",
   "execution_count": 21,
   "metadata": {
    "collapsed": true
   },
   "outputs": [],
   "source": [
    "plt.show()"
   ]
  },
  {
   "cell_type": "code",
   "execution_count": 13,
   "metadata": {
    "collapsed": false
   },
   "outputs": [
    {
     "name": "stdout",
     "output_type": "stream",
     "text": [
      "density\n",
      "0.000010    0.838819\n",
      "0.000011    0.843939\n",
      "0.000011    0.843333\n",
      "0.000011    0.847685\n",
      "0.000012    0.849462\n",
      "0.000012    0.853846\n",
      "0.000012    0.848485\n",
      "0.000012    0.849747\n",
      "0.000013    0.853758\n",
      "0.000013    0.844396\n",
      "0.000013    0.855127\n",
      "0.000013    0.848970\n",
      "0.000014    0.848901\n",
      "0.000014    0.834643\n",
      "0.000014    0.830458\n",
      "0.000014    0.832042\n",
      "0.000015    0.835387\n",
      "0.000015    0.838833\n",
      "0.000015    0.841945\n",
      "0.000016    0.825912\n",
      "0.000016    0.825893\n",
      "0.000016    0.811513\n",
      "0.000016    0.808923\n",
      "0.000017    0.798280\n",
      "0.000017    0.799603\n",
      "0.000017    0.800132\n",
      "0.000017    0.802666\n",
      "0.000018    0.803445\n",
      "0.000018    0.804506\n",
      "0.000018    0.794532\n",
      "              ...   \n",
      "0.000868    0.616722\n",
      "0.000868    0.616722\n",
      "0.000869    0.616722\n",
      "0.000869    0.616722\n",
      "0.000869    0.616722\n",
      "0.000870    0.616722\n",
      "0.000870    0.619312\n",
      "0.000870    0.619312\n",
      "0.000870    0.619312\n",
      "0.000871    0.619312\n",
      "0.000871    0.619312\n",
      "0.000871    0.619312\n",
      "0.000871    0.619312\n",
      "0.000872    0.619034\n",
      "0.000872    0.619034\n",
      "0.000872    0.615982\n",
      "0.000872    0.615982\n",
      "0.000873    0.617277\n",
      "0.000873    0.621069\n",
      "0.000873    0.621069\n",
      "0.000874    0.620977\n",
      "0.000874    0.620977\n",
      "0.000874    0.620977\n",
      "0.000874    0.620977\n",
      "0.000875    0.620977\n",
      "0.000875    0.620977\n",
      "0.000875    0.620977\n",
      "0.000875    0.622364\n",
      "0.000876    0.624954\n",
      "0.000876    0.624954\n",
      "Name: value, dtype: float64\n"
     ]
    }
   ],
   "source": [
    "frame[\"density\"] = frame[\"density\"] / 5.0\n",
    "frame = frame.loc[ (frame[\"variable\"] == \"SF\") & (frame[\"rep\"] == 1) & (frame[\"density\"] >= 0.0) & (frame[\"density\"] < 0.05)]\n",
    "frame.sort_values(by=[\"variable\", \"density\"], ascending=False)\n",
    "print frame.groupby(['density'])['value'].mean()"
   ]
  },
  {
   "cell_type": "code",
   "execution_count": null,
   "metadata": {
    "collapsed": true
   },
   "outputs": [],
   "source": []
  },
  {
   "cell_type": "code",
   "execution_count": 26,
   "metadata": {
    "collapsed": false
   },
   "outputs": [
    {
     "name": "stdout",
     "output_type": "stream",
     "text": [
      "             density  rep method     value\n",
      "0       [0.0 - 0.05]   10     LR  0.758987\n",
      "1       [0.0 - 0.05]   10     LR  0.756703\n",
      "2       [0.0 - 0.05]   10     LR  0.754516\n",
      "3       [0.0 - 0.05]   10     LR  0.759635\n",
      "4       [0.0 - 0.05]   10     LR  0.755626\n",
      "5       [0.0 - 0.05]   10     LR  0.750000\n",
      "6       [0.0 - 0.05]   10     LR  0.747601\n",
      "7       [0.0 - 0.05]   10     LR  0.741343\n",
      "8       [0.0 - 0.05]   10     LR  0.736128\n",
      "9       [0.0 - 0.05]   10     LR  0.733589\n",
      "10      [0.0 - 0.05]   10     LR  0.737958\n",
      "11      [0.0 - 0.05]   10     LR  0.736695\n",
      "12      [0.0 - 0.05]   10     LR  0.733752\n",
      "13      [0.0 - 0.05]   10     LR  0.732650\n",
      "14      [0.0 - 0.05]   10     LR  0.736065\n",
      "15      [0.0 - 0.05]   10     LR  0.735404\n",
      "16      [0.0 - 0.05]   10     LR  0.730726\n",
      "17      [0.0 - 0.05]   10     LR  0.725828\n",
      "18      [0.0 - 0.05]   10     LR  0.725828\n",
      "19      [0.0 - 0.05]   10     LR  0.721684\n",
      "20      [0.0 - 0.05]   10     LR  0.732824\n",
      "21      [0.0 - 0.05]   10     LR  0.736353\n",
      "22      [0.0 - 0.05]   10     LR  0.731190\n",
      "23      [0.0 - 0.05]   10     LR  0.735181\n",
      "24      [0.0 - 0.05]   10     LR  0.728790\n",
      "25      [0.0 - 0.05]   10     LR  0.732215\n",
      "26      [0.0 - 0.05]   10     LR  0.735264\n",
      "27      [0.0 - 0.05]   10     LR  0.746388\n",
      "28      [0.0 - 0.05]   10     LR  0.735881\n",
      "29      [0.0 - 0.05]   10     LR  0.743290\n",
      "...              ...  ...    ...       ...\n",
      "454312  [0.1 - 0.15]    9    FCF  0.486774\n",
      "454313  [0.1 - 0.15]    9    FCF  0.486774\n",
      "454314  [0.1 - 0.15]    9    FCF  0.486774\n",
      "454315  [0.1 - 0.15]    9    FCF  0.486774\n",
      "454316  [0.1 - 0.15]    9    FCF  0.486774\n",
      "454317  [0.1 - 0.15]    9    FCF  0.486774\n",
      "454318  [0.1 - 0.15]    9    FCF  0.486774\n",
      "454319  [0.1 - 0.15]    9    FCF  0.486774\n",
      "454320  [0.1 - 0.15]    9    FCF  0.486774\n",
      "454321  [0.1 - 0.15]    9    FCF  0.486774\n",
      "454322  [0.1 - 0.15]    9    FCF  0.486774\n",
      "454323  [0.1 - 0.15]    9    FCF  0.486774\n",
      "454324  [0.1 - 0.15]    9    FCF  0.486774\n",
      "454325  [0.1 - 0.15]    9    FCF  0.486774\n",
      "454326  [0.1 - 0.15]    9    FCF  0.486774\n",
      "454327  [0.1 - 0.15]    9    FCF  0.486774\n",
      "454328  [0.1 - 0.15]    9    FCF  0.486774\n",
      "454329  [0.1 - 0.15]    9    FCF  0.486774\n",
      "454330  [0.1 - 0.15]    9    FCF  0.486774\n",
      "454331  [0.1 - 0.15]    9    FCF  0.486774\n",
      "454332  [0.1 - 0.15]    9    FCF  0.486774\n",
      "454333  [0.1 - 0.15]    9    FCF  0.486774\n",
      "454334  [0.1 - 0.15]    9    FCF  0.486774\n",
      "454335  [0.1 - 0.15]    9    FCF  0.486774\n",
      "454336  [0.1 - 0.15]    9    FCF  0.486774\n",
      "454337  [0.1 - 0.15]    9    FCF  0.486774\n",
      "454338  [0.1 - 0.15]    9    FCF  0.486774\n",
      "454339  [0.1 - 0.15]    9    FCF  0.486774\n",
      "454340  [0.1 - 0.15]    9    FCF  0.486774\n",
      "454341  [0.1 - 0.15]    9    FCF  0.486774\n",
      "\n",
      "[454342 rows x 4 columns]\n"
     ]
    }
   ],
   "source": [
    "print frame"
   ]
  },
  {
   "cell_type": "markdown",
   "metadata": {},
   "source": []
  }
 ],
 "metadata": {
  "kernelspec": {
   "display_name": "Python 2",
   "language": "python",
   "name": "python2"
  },
  "language_info": {
   "codemirror_mode": {
    "name": "ipython",
    "version": 2
   },
   "file_extension": ".py",
   "mimetype": "text/x-python",
   "name": "python",
   "nbconvert_exporter": "python",
   "pygments_lexer": "ipython2",
   "version": "2.7.13"
  }
 },
 "nbformat": 4,
 "nbformat_minor": 0
}
