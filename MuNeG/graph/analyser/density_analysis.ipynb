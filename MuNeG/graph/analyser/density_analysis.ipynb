{
 "cells": [
  {
   "cell_type": "code",
   "execution_count": 2,
   "metadata": {},
   "outputs": [],
   "source": [
    "import seaborn as sns\n",
    "import csv\n",
    "import pandas as pd\n",
    "import matplotlib.pyplot as plt"
   ]
  },
  {
   "cell_type": "code",
   "execution_count": 45,
   "metadata": {},
   "outputs": [],
   "source": [
    "#synthetic data\n",
    "frame = pd.DataFrame()\n",
    "frame = pd.read_csv('D:\\\\pycharm_workspace\\\\multiplex\\\\MuNeG\\\\results\\\\synthetic\\\\lustre_results\\\\combined_synthetic_density.csv',index_col=None, header=0)\n",
    "nrOfLayers = 5"
   ]
  },
  {
   "cell_type": "code",
   "execution_count": 66,
   "metadata": {},
   "outputs": [],
   "source": [
    "#real data\n",
    "frame = pd.DataFrame()\n",
    "frame = pd.read_csv('D:\\\\pycharm_workspace\\\\multiplex\\\\MuNeG\\\\results\\\\real\\\\lustre_results\\\\combined_real_density.csv',index_col=None, header=0)\n",
    "nrOfLayers = 5"
   ]
  },
  {
   "cell_type": "code",
   "execution_count": 25,
   "metadata": {},
   "outputs": [],
   "source": [
    ""
   ]
  },
  {
   "cell_type": "code",
   "execution_count": 4,
   "metadata": {},
   "outputs": [],
   "source": [
    "\"\""
   ]
  },
  {
   "cell_type": "code",
   "execution_count": 39,
   "metadata": {},
   "outputs": [
    {
     "data": {
      "text/plain": [
       "''"
      ]
     },
     "execution_count": 39,
     "output_type": "execute_result",
     "metadata": {}
    }
   ],
   "source": [
    "\"\""
   ]
  },
  {
   "cell_type": "code",
   "execution_count": 67,
   "metadata": {},
   "outputs": [],
   "source": [
    "frame['fold'] = frame['fold'].map({0:0, 2: 50, 3: 66, 4:75, 5:80, 10:90, 20:95})\n",
    "frame = frame.drop(frame[frame.fold == 66].index)\n",
    "frame = frame.drop(frame[frame.fold == 75].index)\n",
    "frame = frame.drop(frame[frame.fold == 80].index)\n",
    "frame = frame.drop(frame[frame.fold == 50].index)\n",
    "frame = frame.drop(frame[frame.fold == 95].index)\n",
    "frame = pd.melt(frame, id_vars=['density', 'rep'],value_vars=[\"LR\",\"SF\",\"MF\",\"LF\",\"RF\",\"SCF\",\"FCF\"])\n",
    "\n",
    "frame[\"variable\"] = pd.Categorical(frame['variable'], [\"LR\", \"SF\", \"MF\", \"LF\", \"RF\", \"SCF\", \"FCF\"])"
   ]
  },
  {
   "cell_type": "code",
   "execution_count": 68,
   "metadata": {},
   "outputs": [],
   "source": [
    "frame[\"density\"] = frame[\"density\"] / 5.0\n",
    "mask = frame.density <= 0.02\n",
    "column_name = 'density'\n",
    "frame.loc[mask, column_name] = \"<=0.02\"\n",
    "\n",
    "mask = frame.density <= 0.04\n",
    "column_name = 'density'\n",
    "frame.loc[mask, column_name] = \"<=0.04\"\n",
    "\n",
    "mask = frame.density <= 0.06\n",
    "column_name = 'density'\n",
    "frame.loc[mask, column_name] = \"<=0.06\"\n",
    "\n",
    "mask = frame.density <= 0.08\n",
    "column_name = 'density'\n",
    "frame.loc[mask, column_name] = \"<=0.08\"\n",
    "\n",
    "mask = frame.density <= 0.1\n",
    "column_name = 'density'\n",
    "frame.loc[mask, column_name] = \"<=0.1\"\n",
    "\n",
    "frame = frame.sort_values(by=[\"variable\",\"density\"])"
   ]
  },
  {
   "cell_type": "code",
   "execution_count": 69,
   "metadata": {},
   "outputs": [],
   "source": [
    "sns.set(font='monospace', palette=\"deep\", style='whitegrid')"
   ]
  },
  {
   "cell_type": "code",
   "execution_count": 70,
   "metadata": {},
   "outputs": [],
   "source": [
    ""
   ]
  },
  {
   "cell_type": "code",
   "execution_count": 70,
   "metadata": {},
   "outputs": [
    {
     "data": {
      "text/plain": [
       "(0, 1.1)"
      ]
     },
     "execution_count": 70,
     "output_type": "execute_result",
     "metadata": {}
    }
   ],
   "source": [
    "bx = sns.boxplot(x=\"density\", y=\"value\", hue=\"variable\", data=frame )\n",
    "axes = bx.axes\n",
    "axes.set_ylim(0,1.1)"
   ]
  },
  {
   "cell_type": "code",
   "execution_count": 72,
   "metadata": {},
   "outputs": [
    {
     "data": {
      "text/plain": [
       "<matplotlib.text.Text at 0xf064080>"
      ]
     },
     "execution_count": 72,
     "output_type": "execute_result",
     "metadata": {}
    }
   ],
   "source": [
    "plt.title('AuC classification results for 90% of known nodes')\n",
    "plt.xlabel('Density')\n",
    "plt.ylabel('Area under ROC-Curve for different density')"
   ]
  },
  {
   "cell_type": "code",
   "execution_count": 73,
   "metadata": {},
   "outputs": [],
   "source": [
    "plt.show()"
   ]
  },
  {
   "cell_type": "code",
   "execution_count": 30,
   "metadata": {},
   "outputs": [
    {
     "name": "stdout",
     "output_type": "stream",
     "text": [
      "          density  rep variable  value\n0        0.698788   10       LR    0.5\n1        0.699192   10       LR    0.5\n2        0.699596   10       LR    0.5\n3        0.700000   10       LR    0.5\n4        0.700404   10       LR    0.5\n5        0.700808   10       LR    0.5\n6        0.701212   10       LR    0.5\n7        0.701616   10       LR    0.5\n8        0.702020   10       LR    0.5\n9        0.702424   10       LR    0.5\n10       0.702828   10       LR    0.5\n11       0.703232   10       LR    0.5\n12       0.703636   10       LR    0.5\n13       0.704040   10       LR    0.5\n14       0.704444   10       LR    0.5\n15       0.704848   10       LR    0.5\n16       0.705253   10       LR    0.5\n17       0.705657   10       LR    0.5\n18       0.706061   10       LR    0.5\n19       0.706465   10       LR    0.5\n20       0.706869   10       LR    0.5\n21       0.707273   10       LR    0.5\n22       0.707677   10       LR    0.5\n23       0.708081   10       LR    0.5\n24       0.708485   10       LR    0.5\n25       0.708889   10       LR    0.5\n26       0.709293   10       LR    0.5\n27       0.709697   10       LR    0.5\n28       0.710101   10       LR    0.5\n29       0.710505   10       LR    0.5\n...           ...  ...      ...    ...\n1380055  0.012121    9      FCF    1.0\n1380056  0.011717    9      FCF    1.0\n1380057  0.011313    9      FCF    1.0\n1380058  0.010909    9      FCF    1.0\n1380059  0.010505    9      FCF    1.0\n1380060  0.010101    9      FCF    1.0\n1380061  0.009697    9      FCF    1.0\n1380062  0.009293    9      FCF    1.0\n1380063  0.008889    9      FCF    1.0\n1380064  0.008485    9      FCF    1.0\n1380065  0.008081    9      FCF    1.0\n1380066  0.007677    9      FCF    1.0\n1380067  0.007273    9      FCF    1.0\n1380068  0.006869    9      FCF    1.0\n1380069  0.006465    9      FCF    1.0\n1380070  0.006061    9      FCF    1.0\n1380071  0.005657    9      FCF    1.0\n1380072  0.005253    9      FCF    1.0\n1380073  0.004848    9      FCF    1.0\n1380074  0.004444    9      FCF    1.0\n1380075  0.004040    9      FCF    1.0\n1380076  0.003636    9      FCF    1.0\n1380077  0.003232    9      FCF    1.0\n1380078  0.002828    9      FCF    1.0\n1380079  0.002424    9      FCF    1.0\n1380080  0.002020    9      FCF    1.0\n1380081  0.001616    9      FCF    1.0\n1380082  0.001212    9      FCF    1.0\n1380083  0.000808    9      FCF    1.0\n1380084  0.000404    9      FCF    1.0\n\n[1380085 rows x 4 columns]\n"
     ]
    }
   ],
   "source": [
    "print frame"
   ]
  },
  {
   "cell_type": "code",
   "execution_count": 27,
   "metadata": {},
   "outputs": [],
   "source": [
    ""
   ]
  },
  {
   "cell_type": "code",
   "execution_count": 10,
   "metadata": {},
   "outputs": [],
   "source": [
    "print frame"
   ]
  },
  {
   "cell_type": "markdown",
   "metadata": {},
   "source": [
    ""
   ]
  }
 ],
 "metadata": {},
 "nbformat": 4,
 "nbformat_minor": 0
}